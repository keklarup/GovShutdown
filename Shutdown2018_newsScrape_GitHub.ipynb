{
 "cells": [
  {
   "cell_type": "markdown",
   "metadata": {},
   "source": [
    "## Download html of particular page of website"
   ]
  },
  {
   "cell_type": "markdown",
   "metadata": {},
   "source": [
    "To download the html of page from a valid url, we will use the module urlopen from urllib.request. Python must be told to import this module before it can be used:"
   ]
  },
  {
   "cell_type": "code",
   "execution_count": 1,
   "metadata": {
    "collapsed": true
   },
   "outputs": [],
   "source": [
    "from urllib.request import urlopen\n",
    "from bs4 import BeautifulSoup #black box"
   ]
  },
  {
   "cell_type": "code",
   "execution_count": null,
   "metadata": {
    "collapsed": false
   },
   "outputs": [
    {
     "name": "stdout",
     "output_type": "stream",
     "text": [
      "0\n",
      "1\n",
      "2\n",
      "3\n",
      "4\n",
      "5\n"
     ]
    }
   ],
   "source": [
    "from urllib.request import urlopen\n",
    "from time import gmtime, strftime\n",
    "import time\n",
    "x=0;\n",
    "while True:\n",
    "    print(x)\n",
    "    url=\"https://www.nytimes.com\";\n",
    "    html=urlopen(url).read()\n",
    "    t=strftime(\"%Y-%m-%d %H:%M:%S\", gmtime())\n",
    "    t=t.replace(\"-\",\"\").replace(\" \",\"\").replace(\":\",\"\")\n",
    "    with open(\"C:/path/to/html/files/nytimes_%s.html\"%(t), \"w\") as file:\n",
    "        file.write(str(html))\n",
    "    url=\"https://www.foxnews.com\";\n",
    "    html=urlopen(url).read()\n",
    "    time.sleep(1)\n",
    "    with open(\"C:/path/to/html/files/fox_%s.html\"%(t), \"w\") as file:\n",
    "        file.write(str(html))\n",
    "    url=\"https://www.washingtonpost.com\";\n",
    "    html=urlopen(url).read()\n",
    "    time.sleep(1)\n",
    "    with open(\"C:/path/to/html/files/post_%s.html\"%(t), \"w\") as file:\n",
    "        file.write(str(html))\n",
    "    url=\"http://www.cnn.com/\";\n",
    "    html=urlopen(url).read()\n",
    "    time.sleep(1)\n",
    "    with open(\"C:/path/to/html/files/cnn_%s.html\"%(t), \"w\") as file:\n",
    "        file.write(str(html))\n",
    "    url=\"http://www.breitbart.com/\";\n",
    "    html=urlopen(url).read()\n",
    "    time.sleep(1)\n",
    "    with open(\"C:/path/to/html/files/breitbart_%s.html\"%(t), \"w\") as file:\n",
    "        file.write(str(html))\n",
    "    url=\"http://www.npr.org\"\n",
    "    html=urlopen(url).read()\n",
    "    time.sleep(1)\n",
    "    with open(\"C:/path/to/html/files/npr_%s.html\"%(t), \"w\") as file:\n",
    "        file.write(str(html))\n",
    "    time.sleep(60*60)\n",
    "    x=x+1"
   ]
  },
  {
   "cell_type": "code",
   "execution_count": null,
   "metadata": {
    "collapsed": true
   },
   "outputs": [],
   "source": []
  }
 ],
 "metadata": {
  "anaconda-cloud": {},
  "kernelspec": {
   "display_name": "Python [default]",
   "language": "python",
   "name": "python3"
  },
  "language_info": {
   "codemirror_mode": {
    "name": "ipython",
    "version": 3
   },
   "file_extension": ".py",
   "mimetype": "text/x-python",
   "name": "python",
   "nbconvert_exporter": "python",
   "pygments_lexer": "ipython3",
   "version": "3.5.2"
  }
 },
 "nbformat": 4,
 "nbformat_minor": 1
}
