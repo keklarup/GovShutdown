{
 "cells": [
  {
   "cell_type": "markdown",
   "metadata": {},
   "source": [
    "Goal: Capturing images from the newspaper daily headlines displayed by the Newseum. May be a gray area, legally, as Newseum says I need to contact the newspaper publisher directly. But we'll see...\n",
    "\n",
    "http://www.newseum.org/todaysfrontpages/?tfp_show=all\n",
    "\n"
   ]
  },
  {
   "cell_type": "markdown",
   "metadata": {},
   "source": [
    "## Step 1) Downloading the newseum html that contains the links needed."
   ]
  },
  {
   "cell_type": "code",
   "execution_count": 255,
   "metadata": {
    "collapsed": true
   },
   "outputs": [],
   "source": [
    "from urllib.request import urlopen"
   ]
  },
  {
   "cell_type": "markdown",
   "metadata": {},
   "source": [
    "Using url from the appropriate page on the newseum website (make sure show=all for all possible files), beautifulSoup is used to read the newseum page after downloading. The front page of each newspaper has several links associated, including a link to the paper's site and several image/pdfs kept at their own url. The pdf looks to be the highest res, so I'll grab those and convert to images later with ghostscript.\n",
    "\n",
    "The links for all these newspaper pdfs are in a script section of the html. I bet there is a nice, pretty way to use bs4 to get that. Instead, I bang it with a rock till I get what I want."
   ]
  },
  {
   "cell_type": "code",
   "execution_count": 256,
   "metadata": {
    "collapsed": false
   },
   "outputs": [
    {
     "name": "stdout",
     "output_type": "stream",
     "text": [
      "26 520116\n"
     ]
    }
   ],
   "source": [
    "url='http://www.newseum.org/todaysfrontpages/?tfp_show=all' #today\n",
    "#url=\"http://www.newseum.org/todaysfrontpages/?tfp_display=archive-date&tfp_archive_id=100113&tfp_show=all\"#archive 2013 shutdown 1\n",
    "html=urlopen(url)\n",
    "#This next section navigates through the html and prints the date to help verify\n",
    "#the variable string replacement was successful. We'll get into using BeautifulSoup in the next section!\n",
    "#Fow now, just treat it asa a black box\n",
    "from bs4 import BeautifulSoup #black box\n",
    "soup=BeautifulSoup(html.read(),'html.parser') #black box\n",
    "soup2=soup.findAll('script')\n",
    "len(soup2)\n",
    "l=-1;\n",
    "loc=-1\n",
    "#longest script section is the one with all the newspaper front pages, so this give me that correct section.\n",
    "for x in range(0,len(soup2)):\n",
    "    if len(str(soup2[x]))>l:\n",
    "        l=len(str(soup2[x]))\n",
    "        loc=x\n",
    "print(loc,l)\n",
    "soup_string=str(soup2[loc])\n",
    "soup_str_split=soup_string.split(\",\")\n",
    "#getting the links for the pdfs:\n",
    "soup_pdf_links=[elm[6:].replace('\"','').replace(\"\\\\/\",\"/\") for elm in soup_str_split if elm.startswith('\"pdf')]"
   ]
  },
  {
   "cell_type": "code",
   "execution_count": 257,
   "metadata": {
    "collapsed": false
   },
   "outputs": [
    {
     "name": "stdout",
     "output_type": "stream",
     "text": [
      "735\n"
     ]
    },
    {
     "data": {
      "text/plain": [
       "['http://cdn.newseum.org/dfp/pdf22/AL_TP.pdf',\n",
       " 'http://cdn.newseum.org/dfp/pdf22/AL_DD.pdf',\n",
       " 'http://cdn.newseum.org/dfp/pdf22/AL_DE.pdf',\n",
       " 'http://cdn.newseum.org/dfp/pdf22/AL_TD.pdf',\n",
       " 'http://cdn.newseum.org/dfp/pdf22/AL_MA.pdf',\n",
       " 'http://cdn.newseum.org/dfp/pdf22/AL_OAN.pdf',\n",
       " 'http://cdn.newseum.org/dfp/pdf22/AL_TN.pdf',\n",
       " 'http://cdn.newseum.org/dfp/pdf22/AK_ADN.pdf',\n",
       " 'http://cdn.newseum.org/dfp/pdf22/AK_FDNM.pdf',\n",
       " 'http://cdn.newseum.org/dfp/pdf22/AK_JE.pdf']"
      ]
     },
     "execution_count": 257,
     "metadata": {},
     "output_type": "execute_result"
    }
   ],
   "source": [
    "print(len(soup_pdf_links))\n",
    "soup_pdf_links[:10]"
   ]
  },
  {
   "cell_type": "markdown",
   "metadata": {},
   "source": [
    "I want to timestamp these. I'll be doing that in a few different ways. First, pdfs for each day will be in their own folder. Second, the filename for each pdf will contain a timestamp."
   ]
  },
  {
   "cell_type": "code",
   "execution_count": 259,
   "metadata": {
    "collapsed": true
   },
   "outputs": [],
   "source": [
    "from time import gmtime, strftime"
   ]
  },
  {
   "cell_type": "code",
   "execution_count": 260,
   "metadata": {
    "collapsed": false
   },
   "outputs": [
    {
     "data": {
      "text/plain": [
       "'20180122_AL_TP.pdf'"
      ]
     },
     "execution_count": 260,
     "metadata": {},
     "output_type": "execute_result"
    }
   ],
   "source": [
    "t=strftime(\"%Y%m%d\") #today\n",
    "#t=\"20131017\"#archive\n",
    "url=soup_pdf_links[0]\n",
    "n=url.split('/pdf22/')[1]#today\n",
    "#n=url.split('/pdf/')[1]#archive\n",
    "t+\"_\"+n"
   ]
  },
  {
   "cell_type": "markdown",
   "metadata": {},
   "source": [
    "Direct save of those pdf to a local folder."
   ]
  },
  {
   "cell_type": "code",
   "execution_count": 261,
   "metadata": {
    "collapsed": false
   },
   "outputs": [
    {
     "name": "stdout",
     "output_type": "stream",
     "text": [
      "0 AL_TP.pdf\n",
      "10 AZ_KDM.pdf\n",
      "20 CA_PT.pdf\n",
      "30 CA_DP.pdf\n",
      "40 CA_MIJ.pdf\n",
      "50 CA_SGVT.pdf\n",
      "60 CO_DS.pdf\n",
      "70 CT_NB.pdf\n",
      "80 FL_SS.pdf\n",
      "90 FL_SHT.pdf\n",
      "100 GA_AJC.pdf\n",
      "110 IL_BND.pdf\n",
      "120 IL_DH.pdf\n",
      "130 IN_KT.pdf\n",
      "140 IA_HE.pdf\n",
      "150 KY_KE.pdf\n",
      "160 LA_NS.pdf\n",
      "170 MD_TS.pdf\n",
      "180 MA_MWDN.pdf\n",
      "190 MA_TG.pdf\n",
      "200 MI_MNA.pdf\n",
      "210 MN_SCT.pdf\n",
      "220 MO_NL.pdf\n",
      "230 NV_RGJ.pdf\n",
      "240 NJ_APP.pdf\n",
      "250 NM_DT.pdf\n",
      "260 NY_TPS.pdf\n",
      "270 NY_NYT.pdf\n",
      "280 NY_JN.pdf\n",
      "290 NC_WSJ.pdf\n",
      "300 OH_DDN.pdf\n",
      "310 OH_TB.pdf\n",
      "320 PA_TS.pdf\n",
      "330 PA_LDN.pdf\n",
      "340 PA_TT.pdf\n",
      "350 PA_YD.pdf\n",
      "360 SC_MN.pdf\n",
      "370 TN_JS.pdf\n",
      "380 TX_CCCT.pdf\n",
      "390 TX_TM.pdf\n",
      "400 UT_TS.pdf\n",
      "410 USAT.pdf\n",
      "420 WA_DN.pdf\n",
      "430 WI_PC.pdf\n",
      "440 WI_HTR.pdf\n",
      "450 WY_WTE.pdf\n",
      "460 AUS_BM.pdf\n",
      "470 BAN_TI.pdf\n",
      "480 BRA^SP_METCA.pdf\n",
      "490 BRA_AN.pdf\n",
      "500 BRA_LRJ.pdf\n",
      "510 BRA_VE.pdf\n",
      "520 CAN_STAR.pdf\n",
      "530 CAN_MON.pdf\n",
      "540 CAN_TS.pdf\n",
      "550 CHI_CD.pdf\n",
      "560 COL_EU.pdf\n",
      "570 EST_ARI.pdf\n",
      "580 GER_BILD.pdf\n",
      "590 GER_SP.pdf\n",
      "600 IND_NAIDB.pdf\n",
      "610 IND_AGE.pdf\n",
      "620 IRL_IT.pdf\n",
      "630 JPN_JT.pdf\n",
      "640 MEX_PM.pdf\n",
      "650 MEX_MEDM.pdf\n",
      "660 NEWZ_TP.pdf\n",
      "670 PAN_ES.pdf\n",
      "680 ROM_JA.pdf\n",
      "690 SLK_DEN.pdf\n",
      "700 SPA_PUNTB.pdf\n",
      "710 SWE_DN.pdf\n",
      "720 SING_NP.pdf\n",
      "730 UAE_KT.pdf\n"
     ]
    }
   ],
   "source": [
    "from time import gmtime, strftime\n",
    "import time\n",
    "import urllib.request\n",
    "import random\n",
    "#t=strftime(\"%Y%m%d\")\n",
    "#t=\"20131002\"#archive\n",
    "for x in range(0,len(soup_pdf_links)):\n",
    "    url=soup_pdf_links[x]\n",
    "    n=url.split('/pdf22/')[1]#today\n",
    "    #n=url.split('/pdf/')[1]#archive\n",
    "    label=t+\"_\"+n\n",
    "    urllib.request.urlretrieve(url, 'C:/Users/Kyle/Documents/Blog Posts/Newseum/%s/%s'%(t,label))\n",
    "    wait=random.randrange(10,30,1)*.1;\n",
    "    time.sleep(wait) #to not abuse the newseum's servers, adding a delay. Making it a bit random to play with mimicing a human.\n",
    "    if x%10==0:\n",
    "        print(x,n)"
   ]
  },
  {
   "cell_type": "markdown",
   "metadata": {},
   "source": [
    "Once the files have been grabbed, the next step is to convert them to tiffs. Could I have just grabbed the large jpegs and not needed this step? Yes. Maybe I should have done that. But practice at converting from pdf to tiff won't hurt me."
   ]
  },
  {
   "cell_type": "code",
   "execution_count": 1,
   "metadata": {
    "collapsed": true
   },
   "outputs": [],
   "source": [
    "import os"
   ]
  },
  {
   "cell_type": "code",
   "execution_count": 240,
   "metadata": {
    "collapsed": false
   },
   "outputs": [
    {
     "data": {
      "text/plain": [
       "['20131001', '20131002', '20131017', '20180120', '20180121']"
      ]
     },
     "execution_count": 240,
     "metadata": {},
     "output_type": "execute_result"
    }
   ],
   "source": [
    "path=\"C:/Users/Kyle/Documents/Blog Posts/Newseum\"\n",
    "folders_pdf=os.listdir(path)\n",
    "folders_pdf"
   ]
  },
  {
   "cell_type": "code",
   "execution_count": 246,
   "metadata": {
    "collapsed": false
   },
   "outputs": [
    {
     "name": "stdout",
     "output_type": "stream",
     "text": [
      "612\n"
     ]
    },
    {
     "data": {
      "text/plain": [
       "612"
      ]
     },
     "execution_count": 246,
     "metadata": {},
     "output_type": "execute_result"
    }
   ],
   "source": [
    "base_path=os.path.join(path+\"/\"+'20180121')\n",
    "files_pdf=os.listdir(base_path)\n",
    "print(len(files_pdf))\n",
    "files_pdf=[file for file in files_pdf if file[-3:]=='pdf']\n",
    "len(files_pdf)"
   ]
  },
  {
   "cell_type": "code",
   "execution_count": 247,
   "metadata": {
    "collapsed": false
   },
   "outputs": [],
   "source": [
    "for n in range(0,len(files_pdf)):\n",
    "    if \"^\" in(files_pdf[n]):\n",
    "        os.rename(os.path.join(base_path + \"/\" + files_pdf[n]),os.path.join(base_path + \"/\" + files_pdf[n]).replace(\"^\",\"_\"))"
   ]
  },
  {
   "cell_type": "code",
   "execution_count": 248,
   "metadata": {
    "collapsed": false
   },
   "outputs": [],
   "source": [
    "for n in range(0,len(files_pdf)):\n",
    "    if \"^\" in(files_pdf[n]):\n",
    "        print(n)"
   ]
  },
  {
   "cell_type": "code",
   "execution_count": 249,
   "metadata": {
    "collapsed": false
   },
   "outputs": [
    {
     "ename": "ImportError",
     "evalue": "cannot import name 'pdf2text'",
     "output_type": "error",
     "traceback": [
      "\u001b[0;31m---------------------------------------------------------------------------\u001b[0m",
      "\u001b[0;31mImportError\u001b[0m                               Traceback (most recent call last)",
      "\u001b[0;32m<ipython-input-249-5148e96389cc>\u001b[0m in \u001b[0;36m<module>\u001b[0;34m()\u001b[0m\n\u001b[0;32m----> 1\u001b[0;31m \u001b[1;32mfrom\u001b[0m \u001b[0mpdfminer\u001b[0m \u001b[1;32mimport\u001b[0m \u001b[0mpdf2text\u001b[0m\u001b[1;33m\u001b[0m\u001b[0m\n\u001b[0m",
      "\u001b[0;31mImportError\u001b[0m: cannot import name 'pdf2text'"
     ]
    }
   ],
   "source": [
    "from pdfminer import pdf2text"
   ]
  },
  {
   "cell_type": "code",
   "execution_count": 250,
   "metadata": {
    "collapsed": true
   },
   "outputs": [],
   "source": [
    "from pdfminer.pdfparser import PDFParser\n",
    "from pdfminer.pdfdocument import PDFDocument\n",
    "from pdfminer.pdfpage import PDFPage\n",
    "# From PDFInterpreter import both PDFResourceManager and PDFPageInterpreter\n",
    "from pdfminer.pdfinterp import PDFResourceManager, PDFPageInterpreter\n",
    "from pdfminer.pdfdevice import PDFDevice\n",
    "# Import this to raise exception whenever text extraction from PDF is not allowed\n",
    "from pdfminer.pdfpage import PDFTextExtractionNotAllowed\n",
    "from pdfminer.layout import LAParams, LTTextBox, LTTextLine\n",
    "from pdfminer.converter import PDFPageAggregator"
   ]
  },
  {
   "cell_type": "code",
   "execution_count": 252,
   "metadata": {
    "collapsed": true
   },
   "outputs": [],
   "source": [
    "#shamelessly copied from https://gist.github.com/vinovator/c78c2cb63d62fdd9fb67\n",
    "def pdfminer(n):\n",
    "    try:\n",
    "        my_file = os.path.join(base_path + \"/\" + files_pdf[n])\n",
    "        log_file = os.path.join(base_path + \"/\" + files_pdf[n]+\".txt\") #for saving, if desired.\n",
    "        password = \"\"\n",
    "        extracted_text = \"\"\n",
    "        extracted_text_plus=[];\n",
    "        # Open and read the pdf file in binary mode\n",
    "        fp = open(my_file, \"rb\")\n",
    "        # Create parser object to parse the pdf content\n",
    "        parser = PDFParser(fp)\n",
    "        # Store the parsed content in PDFDocument object\n",
    "        document = PDFDocument(parser, password)\n",
    "        # Check if document is extractable, if not abort\n",
    "        #if not document.is_extractable:\n",
    "        #    raise PDFTextExtractionNotAllowed\n",
    "        # Create PDFResourceManager object that stores shared resources such as fonts or images\n",
    "        rsrcmgr = PDFResourceManager()\n",
    "        # set parameters for analysis\n",
    "        laparams = LAParams()\n",
    "        # Create a PDFDevice object which translates interpreted information into desired format\n",
    "        # Device needs to be connected to resource manager to store shared resources\n",
    "        # device = PDFDevice(rsrcmgr)\n",
    "        # Extract the decive to page aggregator to get LT object elements\n",
    "        device = PDFPageAggregator(rsrcmgr, laparams=laparams)\n",
    "        # Create interpreter object to process page content from PDFDocument\n",
    "        # Interpreter needs to be connected to resource manager for shared resources and device \n",
    "        interpreter = PDFPageInterpreter(rsrcmgr, device)\n",
    "        # Ok now that we have everything to process a pdf document, lets process it page by page\n",
    "        for page in PDFPage.create_pages(document):\n",
    "            # As the interpreter processes the page stored in PDFDocument object\n",
    "            interpreter.process_page(page)\n",
    "            # The device renders the layout from interpreter\n",
    "            layout = device.get_result()\n",
    "            # Out of the many LT objects within layout, we are interested in LTTextBox and LTTextLine\n",
    "        \n",
    "            for lt_obj in layout:\n",
    "                #print(lt_obj)\n",
    "                #extracted_text_plus.append(lt_obj)\n",
    "                if isinstance(lt_obj, LTTextBox) or isinstance(lt_obj, LTTextLine):\n",
    "                    extracted_text += lt_obj.get_text()\n",
    "                    extracted_text_plus.append(lt_obj)\n",
    "            #print(layout)\n",
    "        #close the pdf file\n",
    "        fp.close()\n",
    "        #save the text\n",
    "        with open(log_file, \"wb\") as my_log:\n",
    "            my_log.write(extracted_text.encode(\"utf-8\"))\n",
    "        return extracted_text\n",
    "    except:\n",
    "        return ''"
   ]
  },
  {
   "cell_type": "code",
   "execution_count": 124,
   "metadata": {
    "collapsed": true
   },
   "outputs": [],
   "source": [
    "import time\n",
    "import numpy as np"
   ]
  },
  {
   "cell_type": "code",
   "execution_count": 251,
   "metadata": {
    "collapsed": false
   },
   "outputs": [
    {
     "data": {
      "text/plain": [
       "'20180121_AL_TD.pdf'"
      ]
     },
     "execution_count": 251,
     "metadata": {},
     "output_type": "execute_result"
    }
   ],
   "source": [
    "files_pdf[15]"
   ]
  },
  {
   "cell_type": "code",
   "execution_count": 227,
   "metadata": {
    "collapsed": false
   },
   "outputs": [],
   "source": [
    "n=600\n",
    "test=pdfminer(n)"
   ]
  },
  {
   "cell_type": "code",
   "execution_count": 228,
   "metadata": {
    "collapsed": false
   },
   "outputs": [
    {
     "data": {
      "text/plain": [
       "600"
      ]
     },
     "execution_count": 228,
     "metadata": {},
     "output_type": "execute_result"
    }
   ],
   "source": [
    "n"
   ]
  },
  {
   "cell_type": "code",
   "execution_count": 229,
   "metadata": {
    "collapsed": false
   },
   "outputs": [],
   "source": [
    "import pandas as pd\n",
    "df=pd.DataFrame()\n",
    "df['num']=0;\n",
    "df['height']=0;\n",
    "df['text']=''\n",
    "nums=[];\n",
    "heights=[];\n",
    "for n in range(0,len(test)):\n",
    "    cords=str(test[n]).split(' ')[1].split(',')\n",
    "    text=' '.join(str(test[n]).split(' ')[2:])\n",
    "    h=float(cords[3])-float(cords[1])\n",
    "    #nums.append(n)\n",
    "    #heights.append(h)\n",
    "    df.loc[n,'num']=n\n",
    "    df.loc[n,'height']=h\n",
    "    df.loc[n,'text']=text"
   ]
  },
  {
   "cell_type": "code",
   "execution_count": 230,
   "metadata": {
    "collapsed": false
   },
   "outputs": [
    {
     "data": {
      "text/html": [
       "<div>\n",
       "<table border=\"1\" class=\"dataframe\">\n",
       "  <thead>\n",
       "    <tr style=\"text-align: right;\">\n",
       "      <th></th>\n",
       "      <th>num</th>\n",
       "      <th>height</th>\n",
       "      <th>text</th>\n",
       "    </tr>\n",
       "  </thead>\n",
       "  <tbody>\n",
       "    <tr>\n",
       "      <th>15</th>\n",
       "      <td>15.0</td>\n",
       "      <td>164.072</td>\n",
       "      <td>'Annie’s Mailbox . . . . .  C2 \\nBusiness  . ....</td>\n",
       "    </tr>\n",
       "    <tr>\n",
       "      <th>22</th>\n",
       "      <td>22.0</td>\n",
       "      <td>87.066</td>\n",
       "      <td>'WASHINGTON (AP) — A threatened \\ngovernment \\...</td>\n",
       "    </tr>\n",
       "    <tr>\n",
       "      <th>39</th>\n",
       "      <td>39.0</td>\n",
       "      <td>168.878</td>\n",
       "      <td>'He  had  previously  pleaded \\nnot  guilty  t...</td>\n",
       "    </tr>\n",
       "    <tr>\n",
       "      <th>42</th>\n",
       "      <td>42.0</td>\n",
       "      <td>87.066</td>\n",
       "      <td>'Yurchak  admitted  he  shot \\nhis  wife  in  ...</td>\n",
       "    </tr>\n",
       "    <tr>\n",
       "      <th>53</th>\n",
       "      <td>53.0</td>\n",
       "      <td>144.652</td>\n",
       "      <td>'The  plea  comes  more  than \\nfive  years  s...</td>\n",
       "    </tr>\n",
       "    <tr>\n",
       "      <th>60</th>\n",
       "      <td>60.0</td>\n",
       "      <td>87.066</td>\n",
       "      <td>'Feinstein applauded Pappas \\nand  the  invest...</td>\n",
       "    </tr>\n",
       "    <tr>\n",
       "      <th>72</th>\n",
       "      <td>72.0</td>\n",
       "      <td>110.303</td>\n",
       "      <td>'VERNON — An auction will \\nbe  held  today  f...</td>\n",
       "    </tr>\n",
       "    <tr>\n",
       "      <th>78</th>\n",
       "      <td>78.0</td>\n",
       "      <td>80.299</td>\n",
       "      <td>'According  to  a  notice  on \\nwww.auctionadv...</td>\n",
       "    </tr>\n",
       "    <tr>\n",
       "      <th>81</th>\n",
       "      <td>81.0</td>\n",
       "      <td>80.298</td>\n",
       "      <td>'In  2007,  founding  owner \\nDonald  Begraft ...</td>\n",
       "    </tr>\n",
       "    <tr>\n",
       "      <th>88</th>\n",
       "      <td>88.0</td>\n",
       "      <td>80.298</td>\n",
       "      <td>'Hidden Valley is the home of \\nthe  annual  R...</td>\n",
       "    </tr>\n",
       "  </tbody>\n",
       "</table>\n",
       "</div>"
      ],
      "text/plain": [
       "     num   height                                               text\n",
       "15  15.0  164.072  'Annie’s Mailbox . . . . .  C2 \\nBusiness  . ....\n",
       "22  22.0   87.066  'WASHINGTON (AP) — A threatened \\ngovernment \\...\n",
       "39  39.0  168.878  'He  had  previously  pleaded \\nnot  guilty  t...\n",
       "42  42.0   87.066  'Yurchak  admitted  he  shot \\nhis  wife  in  ...\n",
       "53  53.0  144.652  'The  plea  comes  more  than \\nfive  years  s...\n",
       "60  60.0   87.066  'Feinstein applauded Pappas \\nand  the  invest...\n",
       "72  72.0  110.303  'VERNON — An auction will \\nbe  held  today  f...\n",
       "78  78.0   80.299  'According  to  a  notice  on \\nwww.auctionadv...\n",
       "81  81.0   80.298  'In  2007,  founding  owner \\nDonald  Begraft ...\n",
       "88  88.0   80.298  'Hidden Valley is the home of \\nthe  annual  R..."
      ]
     },
     "execution_count": 230,
     "metadata": {},
     "output_type": "execute_result"
    }
   ],
   "source": [
    "df.loc[df['height']>df['height'].mean()*2,:]"
   ]
  },
  {
   "cell_type": "code",
   "execution_count": 231,
   "metadata": {
    "collapsed": false
   },
   "outputs": [
    {
     "data": {
      "text/plain": [
       "False"
      ]
     },
     "execution_count": 231,
     "metadata": {},
     "output_type": "execute_result"
    }
   ],
   "source": [
    "\"shutdown\" in ' '.join(df.loc[df['height']>df['height'].mean()*2,'text'].values)"
   ]
  },
  {
   "cell_type": "code",
   "execution_count": 238,
   "metadata": {
    "collapsed": false
   },
   "outputs": [
    {
     "data": {
      "text/plain": [
       "<matplotlib.axes._subplots.AxesSubplot at 0x24cac2f9f98>"
      ]
     },
     "execution_count": 238,
     "metadata": {},
     "output_type": "execute_result"
    },
    {
     "data": {
      "image/png": "[encoded data removed]",
      "text/plain": [
       "<matplotlib.figure.Figure at 0x24cac317a20>"
      ]
     },
     "metadata": {},
     "output_type": "display_data"
    }
   ],
   "source": [
    "import pandas as pd #to write/read/work with csv files.\n",
    "import numpy as np #to do math\n",
    "import matplotlib.pyplot as plt #To make plots\n",
    "import seaborn as sns #for additional plot features\n",
    "%matplotlib inline\n",
    "df.height.hist(bins=30)"
   ]
  },
  {
   "cell_type": "code",
   "execution_count": 239,
   "metadata": {
    "collapsed": false
   },
   "outputs": [
    {
     "data": {
      "text/plain": [
       "0    10.286\n",
       "dtype: float64"
      ]
     },
     "execution_count": 239,
     "metadata": {},
     "output_type": "execute_result"
    }
   ],
   "source": [
    "df.height.mode()"
   ]
  },
  {
   "cell_type": "code",
   "execution_count": 148,
   "metadata": {
    "collapsed": false
   },
   "outputs": [
    {
     "data": {
      "text/plain": [
       "8"
      ]
     },
     "execution_count": 148,
     "metadata": {},
     "output_type": "execute_result"
    }
   ],
   "source": [
    "heights.index(max(heights))"
   ]
  },
  {
   "cell_type": "code",
   "execution_count": 166,
   "metadata": {
    "collapsed": false
   },
   "outputs": [
    {
     "data": {
      "text/plain": [
       "<LTTextBoxHorizontal(3) 207.536,1151.210,752.701,1359.490 'GRIDLOCK SHUTS\\nU.S. GOVERNMENT\\n'>"
      ]
     },
     "execution_count": 166,
     "metadata": {},
     "output_type": "execute_result"
    }
   ],
   "source": [
    "test[3]"
   ]
  },
  {
   "cell_type": "code",
   "execution_count": 145,
   "metadata": {
    "collapsed": false
   },
   "outputs": [
    {
     "data": {
      "text/plain": [
       "21.979411764705887"
      ]
     },
     "execution_count": 145,
     "metadata": {},
     "output_type": "execute_result"
    }
   ],
   "source": [
    "np.mean(heights)"
   ]
  },
  {
   "cell_type": "code",
   "execution_count": null,
   "metadata": {
    "collapsed": true
   },
   "outputs": [],
   "source": [
    "#new try"
   ]
  },
  {
   "cell_type": "code",
   "execution_count": 45,
   "metadata": {
    "collapsed": false
   },
   "outputs": [],
   "source": [
    "from io import StringIO"
   ]
  },
  {
   "cell_type": "code",
   "execution_count": 36,
   "metadata": {
    "collapsed": false
   },
   "outputs": [
    {
     "data": {
      "text/plain": [
       "'C:/Users/Kyle/Documents/Blog Posts/Newseum/20131001'"
      ]
     },
     "execution_count": 36,
     "metadata": {},
     "output_type": "execute_result"
    }
   ],
   "source": [
    "base_path"
   ]
  },
  {
   "cell_type": "code",
   "execution_count": 104,
   "metadata": {
    "collapsed": false
   },
   "outputs": [],
   "source": [
    "from pdfminer.pdfinterp import PDFResourceManager, PDFPageInterpreter\n",
    "from pdfminer.converter import HTMLConverter\n",
    "from pdfminer.converter import TextConverter\n",
    "from pdfminer.layout import LAParams\n",
    "from pdfminer.pdfpage import PDFPage\n",
    "#from cStringIO import StringIO\n",
    "from io import StringIO\n",
    "from io import BytesIO\n",
    "import re\n",
    "import csv\n",
    "\n",
    "\n",
    "def convert_pdf_to_html(path):\n",
    "    rsrcmgr = PDFResourceManager()\n",
    "    #retstr = StringIO()\n",
    "    retstr=BytesIO()\n",
    "    codec = 'utf-8'\n",
    "    laparams = LAParams()\n",
    "    device = HTMLConverter(rsrcmgr, retstr, codec=codec, laparams=laparams)\n",
    "    #device = HTMLConverter(rsrcmgr, codec=codec, laparams=laparams)\n",
    "    fp = open(path, 'rb')\n",
    "    #fp=path\n",
    "    interpreter = PDFPageInterpreter(rsrcmgr, device)\n",
    "    password = \"\"\n",
    "    maxpages = 0 #is for all\n",
    "    caching = True\n",
    "    pagenos=set()\n",
    "    for page in PDFPage.get_pages(fp, pagenos, maxpages=maxpages, password=password,caching=caching, check_extractable=True):\n",
    "        interpreter.process_page(page)\n",
    "    fp.close()\n",
    "    device.close()\n",
    "    Str = retstr.getvalue()\n",
    "    retstr.close()\n",
    "    return Str\n",
    "#     return ''"
   ]
  },
  {
   "cell_type": "code",
   "execution_count": 107,
   "metadata": {
    "collapsed": false
   },
   "outputs": [
    {
     "data": {
      "text/plain": [
       "'C:/Users/Kyle/Documents/Blog Posts/Newseum/20131001/20131001_AUT_KZ.pdf'"
      ]
     },
     "execution_count": 107,
     "metadata": {},
     "output_type": "execute_result"
    }
   ],
   "source": [
    "n=35;\n",
    "p=os.path.join(base_path + \"/\" + files_pdf[n])\n",
    "p"
   ]
  },
  {
   "cell_type": "code",
   "execution_count": 108,
   "metadata": {
    "collapsed": false
   },
   "outputs": [
    {
     "ename": "PDFTextExtractionNotAllowed",
     "evalue": "Text extraction is not allowed: <_io.BufferedReader name='C:/Users/Kyle/Documents/Blog Posts/Newseum/20131001/20131001_AUT_KZ.pdf'>",
     "output_type": "error",
     "traceback": [
      "\u001b[0;31m---------------------------------------------------------------------------\u001b[0m",
      "\u001b[0;31mPDFTextExtractionNotAllowed\u001b[0m               Traceback (most recent call last)",
      "\u001b[0;32m<ipython-input-108-1e3ac252d466>\u001b[0m in \u001b[0;36m<module>\u001b[0;34m()\u001b[0m\n\u001b[0;32m----> 1\u001b[0;31m \u001b[0mconvert_pdf_to_html\u001b[0m\u001b[1;33m(\u001b[0m\u001b[0mp\u001b[0m\u001b[1;33m)\u001b[0m\u001b[1;33m\u001b[0m\u001b[0m\n\u001b[0m",
      "\u001b[0;32m<ipython-input-104-5be837764d02>\u001b[0m in \u001b[0;36mconvert_pdf_to_html\u001b[0;34m(path)\u001b[0m\n\u001b[1;32m     26\u001b[0m     \u001b[0mcaching\u001b[0m \u001b[1;33m=\u001b[0m \u001b[1;32mTrue\u001b[0m\u001b[1;33m\u001b[0m\u001b[0m\n\u001b[1;32m     27\u001b[0m     \u001b[0mpagenos\u001b[0m\u001b[1;33m=\u001b[0m\u001b[0mset\u001b[0m\u001b[1;33m(\u001b[0m\u001b[1;33m)\u001b[0m\u001b[1;33m\u001b[0m\u001b[0m\n\u001b[0;32m---> 28\u001b[0;31m     \u001b[1;32mfor\u001b[0m \u001b[0mpage\u001b[0m \u001b[1;32min\u001b[0m \u001b[0mPDFPage\u001b[0m\u001b[1;33m.\u001b[0m\u001b[0mget_pages\u001b[0m\u001b[1;33m(\u001b[0m\u001b[0mfp\u001b[0m\u001b[1;33m,\u001b[0m \u001b[0mpagenos\u001b[0m\u001b[1;33m,\u001b[0m \u001b[0mmaxpages\u001b[0m\u001b[1;33m=\u001b[0m\u001b[0mmaxpages\u001b[0m\u001b[1;33m,\u001b[0m \u001b[0mpassword\u001b[0m\u001b[1;33m=\u001b[0m\u001b[0mpassword\u001b[0m\u001b[1;33m,\u001b[0m\u001b[0mcaching\u001b[0m\u001b[1;33m=\u001b[0m\u001b[0mcaching\u001b[0m\u001b[1;33m,\u001b[0m \u001b[0mcheck_extractable\u001b[0m\u001b[1;33m=\u001b[0m\u001b[1;32mTrue\u001b[0m\u001b[1;33m)\u001b[0m\u001b[1;33m:\u001b[0m\u001b[1;33m\u001b[0m\u001b[0m\n\u001b[0m\u001b[1;32m     29\u001b[0m         \u001b[0minterpreter\u001b[0m\u001b[1;33m.\u001b[0m\u001b[0mprocess_page\u001b[0m\u001b[1;33m(\u001b[0m\u001b[0mpage\u001b[0m\u001b[1;33m)\u001b[0m\u001b[1;33m\u001b[0m\u001b[0m\n\u001b[1;32m     30\u001b[0m     \u001b[0mfp\u001b[0m\u001b[1;33m.\u001b[0m\u001b[0mclose\u001b[0m\u001b[1;33m(\u001b[0m\u001b[1;33m)\u001b[0m\u001b[1;33m\u001b[0m\u001b[0m\n",
      "\u001b[0;32mC:\\Users\\Kyle\\AppData\\Local\\Continuum\\Anaconda3\\lib\\site-packages\\pdfminer\\pdfpage.py\u001b[0m in \u001b[0;36mget_pages\u001b[0;34m(klass, fp, pagenos, maxpages, password, caching, check_extractable)\u001b[0m\n\u001b[1;32m    130\u001b[0m         \u001b[1;31m# Check if the document allows text extraction. If not, abort.\u001b[0m\u001b[1;33m\u001b[0m\u001b[1;33m\u001b[0m\u001b[0m\n\u001b[1;32m    131\u001b[0m         \u001b[1;32mif\u001b[0m \u001b[0mcheck_extractable\u001b[0m \u001b[1;32mand\u001b[0m \u001b[1;32mnot\u001b[0m \u001b[0mdoc\u001b[0m\u001b[1;33m.\u001b[0m\u001b[0mis_extractable\u001b[0m\u001b[1;33m:\u001b[0m\u001b[1;33m\u001b[0m\u001b[0m\n\u001b[0;32m--> 132\u001b[0;31m             \u001b[1;32mraise\u001b[0m \u001b[0mPDFTextExtractionNotAllowed\u001b[0m\u001b[1;33m(\u001b[0m\u001b[1;34m'Text extraction is not allowed: %r'\u001b[0m \u001b[1;33m%\u001b[0m \u001b[0mfp\u001b[0m\u001b[1;33m)\u001b[0m\u001b[1;33m\u001b[0m\u001b[0m\n\u001b[0m\u001b[1;32m    133\u001b[0m         \u001b[1;31m# Process each page contained in the document.\u001b[0m\u001b[1;33m\u001b[0m\u001b[1;33m\u001b[0m\u001b[0m\n\u001b[1;32m    134\u001b[0m         \u001b[1;32mfor\u001b[0m \u001b[1;33m(\u001b[0m\u001b[0mpageno\u001b[0m\u001b[1;33m,\u001b[0m \u001b[0mpage\u001b[0m\u001b[1;33m)\u001b[0m \u001b[1;32min\u001b[0m \u001b[0menumerate\u001b[0m\u001b[1;33m(\u001b[0m\u001b[0mklass\u001b[0m\u001b[1;33m.\u001b[0m\u001b[0mcreate_pages\u001b[0m\u001b[1;33m(\u001b[0m\u001b[0mdoc\u001b[0m\u001b[1;33m)\u001b[0m\u001b[1;33m)\u001b[0m\u001b[1;33m:\u001b[0m\u001b[1;33m\u001b[0m\u001b[0m\n",
      "\u001b[0;31mPDFTextExtractionNotAllowed\u001b[0m: Text extraction is not allowed: <_io.BufferedReader name='C:/Users/Kyle/Documents/Blog Posts/Newseum/20131001/20131001_AUT_KZ.pdf'>"
     ]
    }
   ],
   "source": [
    "convert_pdf_to_html(p)"
   ]
  },
  {
   "cell_type": "code",
   "execution_count": null,
   "metadata": {
    "collapsed": true
   },
   "outputs": [],
   "source": []
  },
  {
   "cell_type": "code",
   "execution_count": null,
   "metadata": {
    "collapsed": true
   },
   "outputs": [],
   "source": []
  },
  {
   "cell_type": "code",
   "execution_count": null,
   "metadata": {
    "collapsed": true
   },
   "outputs": [],
   "source": []
  },
  {
   "cell_type": "code",
   "execution_count": null,
   "metadata": {
    "collapsed": true
   },
   "outputs": [],
   "source": []
  },
  {
   "cell_type": "code",
   "execution_count": null,
   "metadata": {
    "collapsed": true
   },
   "outputs": [],
   "source": [
    "#end new try"
   ]
  },
  {
   "cell_type": "code",
   "execution_count": 253,
   "metadata": {
    "collapsed": false,
    "scrolled": true
   },
   "outputs": [
    {
     "name": "stdout",
     "output_type": "stream",
     "text": [
      "0\n",
      "0.02\n",
      "1\n",
      "0.03\n",
      "2\n",
      "0.02\n",
      "3\n",
      "0.0\n",
      "4\n",
      "0.01\n",
      "5\n",
      "0.02\n",
      "6\n",
      "0.02\n",
      "7\n",
      "0.01\n",
      "8\n",
      "0.01\n",
      "9\n",
      "0.01\n",
      "10\n",
      "0.01\n",
      "11\n",
      "0.01\n",
      "12\n",
      "0.01\n",
      "13\n",
      "0.01\n",
      "14\n",
      "0.06\n",
      "15\n",
      "0.05\n",
      "16\n",
      "0.01\n",
      "17\n",
      "0.01\n",
      "18\n",
      "0.01\n",
      "19\n",
      "0.01\n",
      "20\n",
      "0.01\n",
      "21\n",
      "0.01\n",
      "22\n",
      "0.02\n",
      "23\n",
      "0.0\n",
      "24\n",
      "0.04\n",
      "25\n",
      "0.0\n",
      "26\n",
      "0.12\n",
      "27\n",
      "0.01\n",
      "28\n",
      "0.03\n",
      "29\n",
      "0.02\n",
      "30\n",
      "0.02\n",
      "31\n",
      "0.01\n",
      "32\n",
      "0.02\n",
      "33\n",
      "0.03\n",
      "34\n",
      "0.2\n",
      "35\n",
      "26.42\n",
      "36\n",
      "0.04\n",
      "37\n",
      "0.03\n",
      "38\n",
      "0.05\n",
      "39\n",
      "0.04\n",
      "40\n",
      "0.02\n",
      "41\n",
      "0.03\n",
      "42\n",
      "0.03\n",
      "43\n",
      "0.02\n",
      "44\n",
      "0.05\n",
      "45\n",
      "0.02\n",
      "46\n",
      "0.03\n",
      "47\n",
      "0.03\n",
      "48\n",
      "0.01\n",
      "49\n",
      "0.01\n",
      "50\n",
      "0.04\n",
      "51\n",
      "0.02\n",
      "52\n",
      "0.03\n",
      "53\n",
      "0.03\n",
      "54\n",
      "0.01\n",
      "55\n",
      "0.16\n",
      "56\n",
      "0.02\n",
      "57\n",
      "0.07\n",
      "58\n",
      "0.03\n",
      "59\n",
      "0.09\n",
      "60\n",
      "0.03\n",
      "61\n",
      "0.06\n",
      "62\n",
      "0.03\n",
      "63\n",
      "0.15\n",
      "64\n",
      "0.03\n",
      "65\n",
      "0.04\n",
      "66\n",
      "0.02\n",
      "67\n",
      "0.06\n",
      "68\n",
      "0.04\n",
      "69\n",
      "0.02\n",
      "70\n",
      "0.05\n",
      "71\n",
      "0.04\n",
      "72\n",
      "0.04\n",
      "73\n",
      "0.03\n",
      "74\n",
      "0.04\n",
      "75\n",
      "0.03\n",
      "76\n",
      "0.01\n",
      "77\n",
      "0.02\n",
      "78\n",
      "0.03\n",
      "79\n",
      "0.04\n",
      "80\n",
      "0.04\n",
      "81\n",
      "0.05\n",
      "82\n",
      "0.33\n",
      "83\n",
      "0.03\n",
      "84\n",
      "0.03\n",
      "85\n",
      "0.05\n",
      "86\n",
      "0.05\n",
      "87\n",
      "0.05\n",
      "88\n",
      "0.03\n",
      "89\n",
      "0.01\n",
      "90\n",
      "0.03\n",
      "91\n",
      "0.05\n",
      "92\n",
      "0.04\n",
      "93\n",
      "0.02\n",
      "94\n",
      "0.51\n",
      "95\n",
      "0.04\n",
      "96\n",
      "0.03\n",
      "97\n",
      "0.03\n",
      "98\n",
      "0.05\n",
      "99\n",
      "0.02\n",
      "100\n",
      "0.03\n",
      "101\n",
      "0.02\n",
      "102\n",
      "0.04\n",
      "103\n",
      "0.02\n",
      "104\n",
      "0.01\n",
      "105\n",
      "0.03\n",
      "106\n",
      "0.03\n",
      "107\n",
      "0.12\n",
      "108\n",
      "0.06\n",
      "109\n",
      "0.03\n",
      "110\n",
      "0.06\n",
      "111\n",
      "0.02\n",
      "112\n",
      "0.03\n",
      "113\n",
      "0.02\n",
      "114\n",
      "0.04\n",
      "115\n",
      "0.02\n",
      "116\n",
      "0.03\n",
      "117\n",
      "0.04\n",
      "118\n",
      "0.03\n",
      "119\n",
      "0.06\n",
      "120\n",
      "0.01\n",
      "121\n",
      "0.09\n",
      "122\n",
      "0.03\n",
      "123\n",
      "0.04\n",
      "124\n",
      "0.06\n",
      "125\n",
      "0.05\n",
      "126\n",
      "0.03\n",
      "127\n",
      "0.08\n",
      "128\n",
      "0.03\n",
      "129\n",
      "0.03\n",
      "130\n",
      "0.01\n",
      "131\n",
      "0.07\n",
      "132\n",
      "0.01\n",
      "133\n",
      "0.05\n",
      "134\n",
      "0.03\n",
      "135\n",
      "0.0\n",
      "136\n",
      "0.18\n",
      "137\n",
      "0.05\n",
      "138\n",
      "0.06\n",
      "139\n",
      "0.03\n",
      "140\n",
      "0.02\n",
      "141\n",
      "0.14\n",
      "142\n",
      "0.08\n",
      "143\n",
      "0.11\n",
      "144\n",
      "0.03\n",
      "145\n",
      "0.03\n",
      "146\n",
      "0.02\n",
      "147\n",
      "0.03\n",
      "148\n",
      "0.4\n",
      "149\n",
      "0.06\n",
      "150\n",
      "0.03\n",
      "151\n",
      "0.05\n",
      "152\n",
      "0.15\n",
      "153\n",
      "0.17\n",
      "154\n",
      "0.19\n",
      "155\n",
      "0.02\n",
      "156\n",
      "0.07\n",
      "157\n",
      "0.17\n",
      "158\n",
      "0.21\n",
      "159\n",
      "0.01\n",
      "160\n",
      "0.09\n",
      "161\n",
      "0.05\n",
      "162\n",
      "0.09\n",
      "163\n",
      "0.04\n",
      "164\n",
      "0.03\n",
      "165\n",
      "0.03\n",
      "166\n",
      "0.03\n",
      "167\n",
      "0.06\n",
      "168\n",
      "0.06\n",
      "169\n",
      "0.05\n",
      "170\n",
      "0.02\n",
      "171\n",
      "0.03\n",
      "172\n",
      "0.11\n",
      "173\n",
      "0.03\n",
      "174\n",
      "0.01\n",
      "175\n",
      "0.01\n",
      "176\n",
      "0.04\n",
      "177\n",
      "0.04\n",
      "178\n",
      "0.06\n",
      "179\n",
      "0.02\n",
      "180\n",
      "0.09\n",
      "181\n",
      "0.06\n",
      "182\n",
      "0.04\n",
      "183\n",
      "0.28\n",
      "184\n",
      "0.02\n",
      "185\n",
      "0.04\n",
      "186\n",
      "0.03\n",
      "187\n",
      "0.08\n",
      "188\n",
      "0.03\n",
      "189\n",
      "0.02\n",
      "190\n",
      "0.02\n",
      "191\n",
      "0.03\n",
      "192\n",
      "0.08\n",
      "193\n",
      "0.03\n",
      "194\n",
      "0.03\n",
      "195\n",
      "0.03\n",
      "196\n",
      "0.02\n",
      "197\n",
      "0.07\n",
      "198\n",
      "0.03\n",
      "199\n",
      "0.54\n",
      "200\n",
      "0.07\n",
      "201\n",
      "0.03\n",
      "202\n",
      "0.02\n",
      "203\n",
      "0.07\n",
      "204\n",
      "0.08\n",
      "205\n",
      "0.04\n",
      "206\n",
      "0.09\n",
      "207\n",
      "0.06\n",
      "208\n",
      "0.15\n",
      "209\n",
      "0.04\n",
      "210\n",
      "0.07\n",
      "211\n",
      "0.08\n",
      "212\n",
      "0.09\n",
      "213\n",
      "0.03\n",
      "214\n",
      "0.14\n",
      "215\n",
      "0.08\n",
      "216\n",
      "0.12\n",
      "217\n",
      "0.13\n",
      "218\n",
      "0.09\n",
      "219\n",
      "0.04\n",
      "220\n",
      "0.2\n",
      "221\n",
      "0.03\n",
      "222\n",
      "0.04\n",
      "223\n",
      "0.02\n",
      "224\n",
      "0.03\n",
      "225\n",
      "0.09\n",
      "226\n",
      "0.03\n",
      "227\n",
      "0.01\n",
      "228\n",
      "0.04\n",
      "229\n",
      "0.04\n",
      "230\n",
      "0.03\n",
      "231\n",
      "0.03\n",
      "232\n",
      "0.03\n",
      "233\n",
      "0.03\n",
      "234\n",
      "0.04\n",
      "235\n",
      "0.05\n",
      "236\n",
      "0.04\n",
      "237\n",
      "0.02\n",
      "238\n",
      "0.03\n",
      "239\n",
      "0.03\n",
      "240\n",
      "0.05\n",
      "241\n",
      "0.04\n",
      "242\n",
      "0.05\n",
      "243\n",
      "0.09\n",
      "244\n",
      "0.04\n",
      "245\n",
      "0.02\n",
      "246\n",
      "2.63\n",
      "247\n",
      "0.02\n",
      "248\n",
      "0.57\n",
      "249\n",
      "0.38\n",
      "250\n",
      "0.02\n",
      "251\n",
      "0.03\n",
      "252\n",
      "0.06\n",
      "253\n",
      "0.02\n",
      "254\n",
      "0.02\n",
      "255\n",
      "0.03\n",
      "256\n",
      "0.01\n",
      "257\n",
      "0.04\n",
      "258\n",
      "0.09\n",
      "259\n",
      "0.04\n",
      "260\n",
      "0.02\n",
      "261\n",
      "0.03\n",
      "262\n",
      "0.04\n",
      "263\n",
      "0.02\n",
      "264\n",
      "0.04\n",
      "265\n",
      "0.23\n",
      "266\n",
      "0.05\n",
      "267\n",
      "0.02\n",
      "268\n",
      "0.03\n",
      "269\n",
      "0.03\n",
      "270\n",
      "1.55\n",
      "271\n",
      "0.01\n",
      "272\n",
      "0.01\n",
      "273\n",
      "0.09\n",
      "274\n",
      "0.02\n",
      "275\n",
      "0.03\n",
      "276\n",
      "0.03\n",
      "277\n",
      "0.05\n",
      "278\n",
      "0.2\n",
      "279\n",
      "0.17\n",
      "280\n",
      "0.14\n",
      "281\n",
      "0.02\n",
      "282\n",
      "0.03\n",
      "283\n",
      "0.07\n",
      "284\n",
      "0.06\n",
      "285\n",
      "0.02\n",
      "286\n",
      "0.03\n",
      "287\n",
      "0.02\n",
      "288\n",
      "0.16\n",
      "289\n",
      "0.02\n",
      "290\n",
      "0.09\n",
      "291\n",
      "0.03\n",
      "292\n",
      "0.03\n",
      "293\n",
      "0.05\n",
      "294\n",
      "0.02\n",
      "295\n",
      "0.02\n",
      "296\n",
      "0.02\n",
      "297\n",
      "0.02\n",
      "298\n",
      "0.02\n",
      "299\n",
      "0.04\n",
      "300\n",
      "0.06\n",
      "301\n",
      "0.05\n",
      "302\n",
      "0.05\n",
      "303\n",
      "0.06\n",
      "304\n",
      "0.06\n",
      "305\n",
      "0.01\n",
      "306\n",
      "0.12\n",
      "307\n",
      "0.07\n",
      "308\n",
      "0.03\n",
      "309\n",
      "0.03\n",
      "310\n",
      "0.04\n",
      "311\n",
      "0.01\n",
      "312\n",
      "0.04\n",
      "313\n",
      "0.09\n",
      "314\n",
      "0.05\n",
      "315\n",
      "0.04\n",
      "316\n",
      "0.03\n",
      "317\n",
      "0.02\n",
      "318\n",
      "0.05\n",
      "319\n",
      "0.03\n",
      "320\n",
      "0.04\n",
      "321\n",
      "0.05\n",
      "322\n",
      "0.03\n",
      "323\n",
      "0.33\n",
      "324\n",
      "0.03\n",
      "325\n",
      "0.03\n",
      "326\n",
      "0.02\n",
      "327\n",
      "0.5\n",
      "328\n",
      "0.02\n",
      "329\n",
      "0.01\n",
      "330\n",
      "0.02\n",
      "331\n",
      "0.02\n",
      "332\n",
      "0.03\n",
      "333\n",
      "0.02\n",
      "334\n",
      "0.04\n",
      "335\n",
      "0.02\n",
      "336\n",
      "0.02\n",
      "337\n",
      "0.05\n",
      "338\n",
      "0.02\n",
      "339\n",
      "0.01\n",
      "340\n",
      "0.02\n",
      "341\n",
      "0.26\n",
      "342\n",
      "0.02\n",
      "343\n",
      "0.02\n",
      "344\n",
      "0.02\n",
      "345\n",
      "0.03\n",
      "346\n",
      "0.17\n",
      "347\n",
      "0.02\n",
      "348\n",
      "0.09\n",
      "349\n",
      "0.02\n",
      "350\n",
      "0.03\n",
      "351\n",
      "0.18\n",
      "352\n",
      "0.04\n",
      "353\n",
      "0.03\n",
      "354\n",
      "0.03\n",
      "355\n",
      "0.03\n",
      "356\n",
      "0.07\n",
      "357\n",
      "0.04\n",
      "358\n",
      "0.04\n",
      "359\n",
      "0.04\n",
      "360\n",
      "0.03\n",
      "361\n",
      "0.06\n",
      "362\n",
      "0.55\n",
      "363\n",
      "0.07\n",
      "364\n",
      "0.1\n",
      "365\n",
      "0.03\n",
      "366\n",
      "0.05\n",
      "367\n",
      "0.06\n",
      "368\n",
      "0.03\n",
      "369\n",
      "0.05\n",
      "370\n",
      "0.03\n",
      "371\n",
      "0.06\n",
      "372\n",
      "0.06\n",
      "373\n",
      "0.49\n",
      "374\n",
      "0.01\n",
      "375\n",
      "0.04\n",
      "376\n",
      "0.05\n",
      "377\n",
      "0.08\n",
      "378\n",
      "0.01\n",
      "379\n",
      "0.02\n",
      "380\n",
      "0.02\n",
      "381\n",
      "0.08\n",
      "382\n",
      "0.04\n",
      "383\n",
      "0.03\n",
      "384\n",
      "0.04\n",
      "385\n",
      "0.02\n",
      "386\n",
      "0.01\n",
      "387\n",
      "0.02\n",
      "388\n",
      "0.16\n",
      "389\n",
      "0.0\n",
      "390\n",
      "0.02\n",
      "391\n",
      "0.01\n",
      "392\n",
      "0.02\n",
      "393\n",
      "0.04\n",
      "394\n",
      "0.83\n",
      "395\n",
      "0.04\n",
      "396\n",
      "0.03\n",
      "397\n",
      "0.1\n",
      "398\n",
      "0.05\n",
      "399\n",
      "0.03\n",
      "400\n",
      "0.05\n",
      "401\n",
      "0.01\n",
      "402\n",
      "0.04\n",
      "403\n",
      "0.05\n",
      "404\n",
      "0.01\n",
      "405\n",
      "0.06\n",
      "406\n",
      "0.04\n",
      "407\n",
      "0.02\n",
      "408\n",
      "0.05\n",
      "409\n",
      "0.02\n",
      "410\n",
      "0.03\n",
      "411\n",
      "0.03\n",
      "412\n",
      "0.03\n",
      "413\n",
      "0.02\n",
      "414\n",
      "0.05\n",
      "415\n",
      "0.04\n",
      "416\n",
      "0.02\n",
      "417\n",
      "0.04\n",
      "418\n",
      "0.05\n",
      "419\n",
      "0.06\n",
      "420\n",
      "0.02\n",
      "421\n",
      "0.03\n",
      "422\n",
      "0.1\n",
      "423\n",
      "0.05\n",
      "424\n",
      "0.01\n",
      "425\n",
      "0.04\n",
      "426\n",
      "0.07\n",
      "427\n",
      "0.04\n",
      "428\n",
      "0.04\n",
      "429\n",
      "0.1\n",
      "430\n",
      "0.06\n",
      "431\n",
      "0.04\n",
      "432\n",
      "0.03\n",
      "433\n",
      "0.25\n",
      "434\n",
      "0.04\n",
      "435\n",
      "0.03\n",
      "436\n",
      "0.06\n",
      "437\n",
      "0.11\n",
      "438\n",
      "0.06\n",
      "439\n",
      "0.22\n",
      "440\n",
      "0.02\n",
      "441\n",
      "0.27\n",
      "442\n",
      "0.03\n",
      "443\n",
      "0.12\n",
      "444\n",
      "0.02\n",
      "445\n",
      "0.03\n",
      "446\n",
      "0.06\n",
      "447\n",
      "0.05\n",
      "448\n",
      "0.48\n",
      "449\n",
      "0.05\n",
      "450\n",
      "0.01\n",
      "451\n",
      "0.04\n",
      "452\n",
      "0.01\n",
      "453\n",
      "0.09\n",
      "454\n",
      "0.01\n",
      "455\n",
      "0.06\n",
      "456\n",
      "0.04\n",
      "457\n",
      "0.46\n",
      "458\n",
      "0.05\n",
      "459\n",
      "0.04\n",
      "460\n",
      "0.05\n",
      "461\n",
      "0.03\n",
      "462\n",
      "0.02\n",
      "463\n",
      "0.18\n",
      "464\n",
      "0.02\n",
      "465\n",
      "0.04\n",
      "466\n",
      "0.06\n",
      "467\n",
      "0.03\n",
      "468\n",
      "0.03\n",
      "469\n",
      "0.01\n",
      "470\n",
      "0.05\n",
      "471\n",
      "0.04\n",
      "472\n",
      "0.03\n",
      "473\n",
      "0.06\n",
      "474\n",
      "0.03\n",
      "475\n",
      "0.03\n",
      "476\n",
      "0.04\n",
      "477\n",
      "0.03\n",
      "478\n",
      "0.04\n",
      "479\n",
      "0.05\n",
      "480\n",
      "0.04\n",
      "481\n",
      "0.05\n",
      "482\n",
      "0.05\n",
      "483\n",
      "0.05\n",
      "484\n",
      "0.03\n",
      "485\n",
      "0.02\n",
      "486\n",
      "0.01\n",
      "487\n",
      "0.08\n",
      "488\n",
      "0.05\n",
      "489\n",
      "0.04\n",
      "490\n",
      "0.02\n",
      "491\n",
      "0.01\n",
      "492\n",
      "0.2\n",
      "493\n",
      "0.02\n",
      "494\n",
      "0.06\n",
      "495\n",
      "0.02\n",
      "496\n",
      "0.04\n",
      "497\n",
      "0.03\n",
      "498\n",
      "0.09\n",
      "499\n",
      "0.02\n",
      "500\n",
      "0.06\n",
      "501\n",
      "0.03\n",
      "502\n",
      "0.03\n",
      "503\n",
      "0.34\n",
      "504\n",
      "0.02\n",
      "505\n",
      "0.02\n",
      "506\n",
      "0.03\n",
      "507\n",
      "0.01\n",
      "508\n",
      "0.01\n",
      "509\n",
      "0.03\n",
      "510\n",
      "0.11\n",
      "511\n",
      "0.11\n",
      "512\n",
      "0.01\n",
      "513\n",
      "0.42\n",
      "514\n",
      "0.09\n",
      "515\n",
      "0.01\n",
      "516\n",
      "0.11\n",
      "517\n",
      "0.02\n",
      "518\n",
      "0.02\n",
      "519\n",
      "0.07\n",
      "520\n",
      "0.33\n",
      "521\n",
      "0.46\n",
      "522\n",
      "0.29\n",
      "523\n",
      "0.02\n",
      "524\n",
      "0.01\n",
      "525\n",
      "0.01\n",
      "526\n",
      "0.01\n",
      "527\n",
      "0.02\n",
      "528\n",
      "0.26\n",
      "529\n",
      "0.01\n",
      "530\n",
      "0.01\n",
      "531\n",
      "0.01\n",
      "532\n",
      "0.01\n",
      "533\n",
      "0.09\n",
      "534\n",
      "0.03\n",
      "535\n",
      "0.02\n",
      "536\n",
      "0.14\n",
      "537\n",
      "0.15\n",
      "538\n",
      "0.02\n",
      "539\n",
      "0.01\n",
      "540\n",
      "0.02\n",
      "541\n",
      "0.03\n",
      "542\n",
      "0.01\n",
      "543\n",
      "0.02\n",
      "544\n",
      "0.02\n",
      "545\n",
      "0.02\n",
      "546\n",
      "0.02\n",
      "547\n",
      "0.01\n",
      "548\n",
      "0.02\n",
      "549\n",
      "0.03\n",
      "550\n",
      "0.03\n",
      "551\n",
      "0.02\n",
      "552\n",
      "0.02\n",
      "553\n",
      "0.02\n",
      "554\n",
      "0.02\n",
      "555\n",
      "0.06\n",
      "556\n",
      "0.01\n",
      "557\n",
      "0.03\n",
      "558\n",
      "0.02\n",
      "559\n",
      "0.01\n",
      "560\n",
      "0.04\n",
      "561\n",
      "0.12\n",
      "562\n",
      "0.13\n",
      "563\n",
      "0.01\n",
      "564\n",
      "0.02\n",
      "565\n",
      "0.03\n",
      "566\n",
      "0.05\n",
      "567\n",
      "0.03\n",
      "568\n",
      "0.01\n",
      "569\n",
      "0.02\n",
      "570\n",
      "0.03\n",
      "571\n",
      "0.02\n",
      "572\n",
      "0.01\n",
      "573\n",
      "0.02\n",
      "574\n",
      "0.04\n",
      "575\n",
      "0.03\n",
      "576\n",
      "0.01\n",
      "577\n",
      "0.02\n",
      "578\n",
      "0.02\n",
      "579\n",
      "0.02\n",
      "580\n",
      "0.04\n",
      "581\n",
      "0.01\n",
      "582\n",
      "0.01\n",
      "583\n",
      "0.01\n",
      "584\n",
      "0.02\n",
      "585\n",
      "0.02\n",
      "586\n",
      "0.2\n",
      "587\n",
      "0.04\n",
      "588\n",
      "0.03\n",
      "589\n",
      "0.03\n",
      "590\n",
      "0.01\n",
      "591\n",
      "0.02\n",
      "592\n",
      "0.02\n",
      "593\n",
      "0.03\n",
      "594\n",
      "0.01\n",
      "595\n",
      "0.01\n",
      "596\n",
      "0.03\n",
      "597\n",
      "0.01\n",
      "598\n",
      "0.07\n",
      "599\n",
      "0.01\n",
      "600\n",
      "0.01\n",
      "601\n",
      "0.01\n",
      "602\n",
      "0.02\n",
      "603\n",
      "0.01\n",
      "604\n",
      "0.02\n",
      "605\n",
      "0.01\n",
      "606\n",
      "0.01\n",
      "607\n",
      "0.11\n",
      "608\n",
      "0.02\n",
      "609\n",
      "0.02\n",
      "610\n",
      "0.02\n",
      "611\n",
      "0.01\n",
      "259 front pages contained the word 'shutdown', or 0.42320261437908496 percent of total\n"
     ]
    }
   ],
   "source": [
    "y=0;\n",
    "for n in range(0,len(files_pdf)):\n",
    "#for n in range(0,50):\n",
    "    try:\n",
    "        t1=time.time()\n",
    "        #if n%5==0:\n",
    "        print(n)\n",
    "        text=pdfminer(n)\n",
    "        if 'shutdown' in text.lower():\n",
    "            y=y+1\n",
    "        t2=time.time()\n",
    "        tdiff=np.round((t2-t1)/60,2)\n",
    "        print(tdiff)\n",
    "    except:\n",
    "        pass\n",
    "print(\"%s front pages contained the word 'shutdown', or %s percent of total\"%(y,y/len(files_pdf)))"
   ]
  },
  {
   "cell_type": "code",
   "execution_count": 245,
   "metadata": {
    "collapsed": false
   },
   "outputs": [
    {
     "data": {
      "text/plain": [
       "True"
      ]
     },
     "execution_count": 245,
     "metadata": {},
     "output_type": "execute_result"
    }
   ],
   "source": [
    "'shutdown' in text.lower()"
   ]
  },
  {
   "cell_type": "code",
   "execution_count": 246,
   "metadata": {
    "collapsed": false
   },
   "outputs": [
    {
     "name": "stdout",
     "output_type": "stream",
     "text": [
      "20180120_AL_TD.pdf\n",
      "True\n"
     ]
    }
   ],
   "source": [
    "n=10;\n",
    "print(files_pdf[n])\n",
    "text=pdfminer(n)\n",
    "if 'shutdown' in text.lower():\n",
    "    print('True')"
   ]
  },
  {
   "cell_type": "code",
   "execution_count": 221,
   "metadata": {
    "collapsed": true
   },
   "outputs": [],
   "source": [
    "document = PDFDocument(parser, password)"
   ]
  },
  {
   "cell_type": "code",
   "execution_count": 222,
   "metadata": {
    "collapsed": true
   },
   "outputs": [],
   "source": [
    "if not document.is_extractable:\n",
    "    raise PDFTextExtractionNotAllowed"
   ]
  },
  {
   "cell_type": "code",
   "execution_count": 223,
   "metadata": {
    "collapsed": true
   },
   "outputs": [],
   "source": [
    "rsrcmgr = PDFResourceManager()\n",
    "laparams = LAParams()"
   ]
  },
  {
   "cell_type": "code",
   "execution_count": 224,
   "metadata": {
    "collapsed": true
   },
   "outputs": [],
   "source": [
    "device = PDFPageAggregator(rsrcmgr, laparams=laparams)"
   ]
  },
  {
   "cell_type": "code",
   "execution_count": 225,
   "metadata": {
    "collapsed": true
   },
   "outputs": [],
   "source": [
    "interpreter = PDFPageInterpreter(rsrcmgr, device)"
   ]
  },
  {
   "cell_type": "code",
   "execution_count": 226,
   "metadata": {
    "collapsed": true
   },
   "outputs": [],
   "source": [
    "extracted_text=\"\"\n",
    "for page in PDFPage.create_pages(document):\n",
    "    # As the interpreter processes the page stored in PDFDocument object\n",
    "    interpreter.process_page(page)\n",
    "    # The device renders the layout from interpreter\n",
    "    layout = device.get_result()\n",
    "    # Out of the many LT objects within layout, we are interested in LTTextBox and LTTextLine\n",
    "    for lt_obj in layout:\n",
    "        if isinstance(lt_obj, LTTextBox):# or isinstance(lt_obj, LTTextLine):\n",
    "            extracted_text += lt_obj.get_text()\n",
    "\n",
    "#close the pdf file\n",
    "fp.close()"
   ]
  },
  {
   "cell_type": "code",
   "execution_count": 227,
   "metadata": {
    "collapsed": false
   },
   "outputs": [
    {
     "name": "stdout",
     "output_type": "stream",
     "text": [
      "One dollar\n",
      "SATURDAY, JANUARY 20, 2018\n",
      "newsminer.com\n",
      "T H E   V O I C E   O F   I N T E R I O R   A L A S K A\n",
      "Inside Today\n",
      "Ice Dogs extend unbeaten streak with win over Coulee Region. » SPORTS B1\n",
      "Government shuts down\n",
      "Democrats, Republicans blame each other\n",
      "By Zeke Miller, Andrew \n",
      "Taylor and Alan Fram  \n",
      "ASSOCIATED PRESS\n",
      "WASHINGTON  —  The  federal \n",
      "government shut down at the \n",
      "stroke of midnight Friday, halt-\n",
      "ing all but the most essential \n",
      "operations  and  marring  the \n",
      "one-year anniversary of Presi-\n",
      "dent Donald Trump’s inaugu-\n",
      "ration in a striking display of \n",
      "Washington dysfunction.\n",
      "Last-minute  negotiations \n",
      "crumbled as Senate Democrats \n",
      "blocked a four-week stopgap \n",
      "extension in a late-night vote, \n",
      "causing the fourth government \n",
      "shutdown in a quarter century. \n",
      "The slide toward closure lacked \n",
      "for  high  drama:  The  Senate \n",
      "vote was all but predetermined, \n",
      "and since the shutdown began \n",
      "at the start of a weekend, many \n",
      "The Capitol is illuminated \n",
      "Friday evening in \n",
      "Washington. AP PHOTO/ \n",
      "J. SCOTT APPLEWHITE\n",
      "of the immediate effects will be \n",
      "muted for most Americans.\n",
      "Still, it comes with no short-\n",
      "age of embarrassment for the \n",
      "president  and  political  risk \n",
      "SHUT » A5\n",
      "Walker talks optimism, budget, \n",
      "session and climate change\n",
      "By Erin Granger\n",
      "EGRANGER \n",
      "@NEWSMINER.COM\n",
      "JUNEAU  —  Alaska’s \n",
      "Gov. Bill Walker took \n",
      "office right as the state \n",
      "hit  the  depths  of  its \n",
      "recession. Since then, \n",
      "his administration has \n",
      "had to work with legis-\n",
      "lators to figure out how \n",
      "to  handle  the  state’s \n",
      "mounting fiscal crisis, \n",
      "skyrocketing  crime \n",
      "rates and balance the \n",
      "state’s central natural \n",
      "resource development \n",
      "based  economy  with \n",
      "increasingly  appar-\n",
      "ent  effects  of  climate \n",
      "change.\n",
      "Walker spoke to the \n",
      "News-Miner  in  an \n",
      "interview Friday to dis-\n",
      "cuss his concerns about \n",
      "the legislative session, \n",
      "the state’s fiscal crisis \n",
      "and issues such as pub-\n",
      "lic safety and climate \n",
      "change. \n",
      "In  his  “State  of  the \n",
      "State”  address  the \n",
      "night  before,  Walker \n",
      "emphasized  his  opti-\n",
      "mism  in  the  face  of \n",
      "many  struggles  the \n",
      "state is up against and \n",
      "much of that optimism \n",
      "remained  a  theme  in \n",
      "his discussion with the \n",
      "News-Miner. \n",
      "This began with the \n",
      "budget and the legis-\n",
      "lative  session.  While \n",
      "Walker  was  hard  on \n",
      "legislators  during  his \n",
      "“State  of  the  State” \n",
      "address, pointing out \n",
      "that a system that can-\n",
      "not pass a timely bud-\n",
      "Gov. Bill Walker walks out the House of Representatives after his “State \n",
      "of the State” address before a joint session of the Alaska Legislature on \n",
      "Thursday in Juneau. MICHAEL PENN/THE JUNEAU EMPIRE VIA AP\n",
      "get is a broken one, the \n",
      "governor seemed hope-\n",
      "ful the next day. \n",
      "“I  look  at  the  num-\n",
      "ber  difference  from \n",
      "last year of what I sub-\n",
      "mitted and what they \n",
      "passed,  and  it’s  such \n",
      "a  small  difference,” \n",
      "Walker said. “So there’s \n",
      "really no reason to not \n",
      "be able to pass it on the \n",
      "schedule we’re on. So \n",
      "I am optimistic about \n",
      "that; I really am.”\n",
      "The governor said he \n",
      "has made passing the \n",
      "budget a priority over \n",
      "all  other  bills  intro-\n",
      "duced  this  session. \n",
      "Alternative  forms  of \n",
      "revenue,  including  a \n",
      "proposed capped pay-\n",
      "roll tax, were included \n",
      "in  this  budget.  This \n",
      "remains  a  conten-\n",
      "tious  issue  with  Sen-\n",
      "ate Majority members \n",
      "WALKER » A5\n",
      "Native group slams planned shamanism event\n",
      "GOOD\n",
      "MORNING\n",
      "The weather.\n",
      "Mostly cloudy. A \n",
      "chance of snow in the \n",
      "morning, then a slight \n",
      "chance of snow in the \n",
      "afternoon. Tonight: \n",
      "Mostly cloudy with  \n",
      "flurries. Lows\n",
      "15 to 25 below. \n",
      "High today .............. -4\n",
      "Low tonight .......... -23\n",
      "WEATHER » A5\n",
      "Aurora forecast.\n",
      "Auroral activity will \n",
      "be high. Weather per-\n",
      "mitting, highly active \n",
      "auroral displays will be \n",
      "visible overhead from \n",
      "Utqiagvik to Bethel, Dil-\n",
      "lingham and Ketchikan, \n",
      "and visible low on the \n",
      "horizon from King \n",
      "Salmon.\n",
      "This information is provided \n",
      "by aurora forecasters at \n",
      "the Geophysical Institute \n",
      "at the University of Alaska \n",
      "Fairbanks. For more infor-\n",
      "mation about the aurora, \n",
      "visit http://www.gi.alaska.\n",
      "edu/AuroraForecast\n",
      "• • •\n",
      "EAGLE \n",
      "EYES\n",
      "Nanooks rifle sets \n",
      "record against Ole \n",
      "Miss.\n",
      "SPORTS\n",
      "Page B1\n",
      "• • •\n",
      "SOURDOUGH JACK:\n",
      "“I’d think having \n",
      "two parties in \n",
      "the same room \n",
      "would be a little \n",
      "more fun.”\n",
      "Judge bars \n",
      "media from \n",
      "change \n",
      "of plea \n",
      "hearing\n",
      "By Dorothy Chomicz\n",
      "DCHOMICZ \n",
      "@NEWSMINER.COM\n",
      "A Fairbanks judge has \n",
      "granted  a  request  that \n",
      "a  change  of  plea  hear-\n",
      "ing for the alleged get-\n",
      "away driver in the John \n",
      "D.  Kavairlook  Jr.  mur-\n",
      "der case be closed to the \n",
      "press and the public.\n",
      "Demarius Hinson, 27, \n",
      "of Anchorage, is charged \n",
      "with one count of felony \n",
      "first-degree  hindering \n",
      "prosecution in the case. \n",
      "He  was  scheduled  to \n",
      "change  his  plea  Jan.  8. \n",
      "He and his attorney, Dar-\n",
      "ryl L. Jones, appeared at \n",
      "the hearing via telephone \n",
      "from  Anchorage.  Jones \n",
      "requested  Fairbanks \n",
      "Superior  Court  Judge \n",
      "Paul  Lyle  postpone  the \n",
      "hearing so he could file \n",
      "a  motion  to  close  the \n",
      "proceedings “due to the \n",
      "nature of the agreement.”\n",
      "Jones declined to dis-\n",
      "cuss the reasons for his \n",
      "request  in  open  court. \n",
      "Assistant District Attor-\n",
      "ney David Buettner indi-\n",
      "cated he did not plan to \n",
      "oppose the motion.\n",
      "L y l e   g r a n t e d   t h e \n",
      "motion to close the pro-\n",
      "ceedings on Wednesday, \n",
      "and Hinson’s plea hear-\n",
      "ing is set for 8:30 a.m. \n",
      "Monday. \n",
      "When reached for com-\n",
      "ment  Friday,  Buettner \n",
      "said  he  did  not  oppose \n",
      "the  motion  because  of \n",
      "“public safety concerns, \n",
      "specifically for Mr. Hin-\n",
      "son, but potentially for \n",
      "others connected to the \n",
      "case or to Mr. Hinson as \n",
      "well.”\n",
      "The  alleged  shooter \n",
      "in the case, Patrick Dale \n",
      "Burton-Hill, is set to go \n",
      "to trial Feb. 5. Buettner \n",
      "said he does not expect \n",
      "any delays and the trial \n",
      "is  expected  to  last  two \n",
      "weeks.\n",
      "Hinson  was  one  of \n",
      "five  men  arrested  after \n",
      "a  yearlong,  nationwide \n",
      "manhunt sparked by the \n",
      "May 2015 shooting death \n",
      "of  Kavairlook  outside \n",
      "the  Rock  N  Rodeo  bar. \n",
      "According  to  charging \n",
      "documents  in  the  case, \n",
      "Kavairlook and another \n",
      "man were kicked out of \n",
      "the bar for fighting. \n",
      "By Rachel D’Oro \n",
      "ASSOCIATED PRESS\n",
      "ANCHORAGE — An Alaska Native \n",
      "group spoke out Friday against \n",
      "a  shamanism  retreat,  saying \n",
      "the  event  commercializes  and \n",
      "exploits  the  spiritual  healing \n",
      "practices of indigenous people.\n",
      "The  Juneau-based  Sealas-\n",
      "ka Heritage Institute voiced its \n",
      "opposition  to  the  pricey  June \n",
      "retreat in a letter emailed Friday \n",
      "to the event sponsor, Dance of \n",
      "the Deer Foundation. The event \n",
      "— billed as the 24th in Alaska \n",
      "— is scheduled for June 22 to  \n",
      "July 1 at an undisclosed lodge \n",
      "outside Juneau.\n",
      "In  the  short  letter,  Heritage \n",
      "Institute president Rosita Worl \n",
      "calls the event “a violation of a \n",
      "most sacred tradi-\n",
      "tion of Native peo-\n",
      "ples.”  She  asked \n",
      "that the founda-\n",
      "tion not come to \n",
      "the  area  that’s \n",
      "considered  the \n",
      "ancient homeland \n",
      "of a Tlingit group.\n",
      "Worl\n",
      "Worl said the event appears \n",
      "to be another form of cultural \n",
      "appropriation.\n",
      "“They  are  taking  a  cultural \n",
      "practice,  cultural  knowledge. \n",
      "They’re  taking  it  away  from  a \n",
      "tribe,” she said. “Then they are \n",
      "transforming it into a commer-\n",
      "cial enterprise to benefit them-\n",
      "selves.”\n",
      "The Dance of the Deer Foun-\n",
      "dation  later  apologized  for \n",
      "not reaching out to the Alaska  \n",
      "Native organization.\n",
      "In a letter addressed to Worl, \n",
      "the  Soquel,  California-based \n",
      "foundation  released  a  state-\n",
      "ment saying it holds the deepest \n",
      "respect for Native people, includ-\n",
      "ing the Huichol tribe that it is \n",
      "closely connected to.\n",
      "It  said  foundation  founder, \n",
      "Brant Secunda, went through a \n",
      "12-year apprenticeship and tra-\n",
      "ditional training with a revered \n",
      "Huichol shaman.\n",
      "A shaman is considered a spir-\n",
      "itual healer.\n",
      "The foundation says the cost \n",
      "of its program helps sustain edu-\n",
      "cational and cultural support \n",
      "initiatives and that the Huichol \n",
      "tribe is aware of the costs.\n",
      "INSIDE\n",
      " Classified » B4     |      Comics » B6     |     Dear Abby » A3     |     Markets » A5     |     Obituaries » A3     |     Opinion » A4 \n",
      "SHAMAN » A3\n",
      "HEARING » A5\n",
      "\n"
     ]
    }
   ],
   "source": [
    "print(extracted_text)"
   ]
  },
  {
   "cell_type": "code",
   "execution_count": null,
   "metadata": {
    "collapsed": true
   },
   "outputs": [],
   "source": []
  },
  {
   "cell_type": "code",
   "execution_count": null,
   "metadata": {
    "collapsed": true
   },
   "outputs": [],
   "source": []
  },
  {
   "cell_type": "code",
   "execution_count": null,
   "metadata": {
    "collapsed": true
   },
   "outputs": [],
   "source": []
  },
  {
   "cell_type": "code",
   "execution_count": 99,
   "metadata": {
    "collapsed": false
   },
   "outputs": [],
   "source": [
    "url=soup_pdf_links[0];\n",
    "html=urlopen(url).read()\n",
    "#t=strftime(\"%Y-%m-%d %H:%M:%S\", gmtime())\n",
    "#t=t.replace(\"-\",\"\").replace(\" \",\"\").replace(\":\",\"\")\n",
    "#with open(\"C:\\Users\\Kyle\\Documents\\Blog Posts\\Newseum/nytimes_%s.html\"%(t), \"w\") as file:\n",
    "#    file.write(str(html))"
   ]
  },
  {
   "cell_type": "code",
   "execution_count": 50,
   "metadata": {
    "collapsed": false
   },
   "outputs": [
    {
     "name": "stdout",
     "output_type": "stream",
     "text": [
      "['Saturday, February 8, 2014']\n"
     ]
    }
   ],
   "source": [
    "#list variables here:\n",
    "\n",
    "\n",
    "\n",
    "#modify the url here:\n",
    "url=\"\";\n",
    "html=urlopen(url)\n",
    "#This next section navigates through the html and prints the date to help verify\n",
    "#the variable string replacement was successful. We'll get into using BeautifulSoup in the next section!\n",
    "#Fow now, just treat it asa a black box\n",
    "from bs4 import BeautifulSoup #black box\n",
    "soup=BeautifulSoup(html.read(),'html.parser') #black box\n",
    "print(soup.find('h2',class_='history-date').contents) #black box"
   ]
  },
  {
   "cell_type": "markdown",
   "metadata": {},
   "source": [
    "## Navigating the downloaded html"
   ]
  },
  {
   "cell_type": "markdown",
   "metadata": {},
   "source": [
    "In the previous code block, the html of the downloaded was navigated using BeautifulSoup, a python module designed to make getting to the sections of html you care about easier. In that case, the html was read into BeautifulSoup which allowed me to navigate straight to the html section that was type='h2', class='history-date'. This section guides you to finding the section of the html where the temperature data is stored."
   ]
  },
  {
   "cell_type": "markdown",
   "metadata": {},
   "source": [
    "To begin, let's get the html into BeautifulSoup and just ask it to print out everything that's there:"
   ]
  },
  {
   "cell_type": "code",
   "execution_count": 177,
   "metadata": {
    "collapsed": false
   },
   "outputs": [],
   "source": [
    "from bs4 import BeautifulSoup\n",
    "html=urlopen(url);\n",
    "soup=BeautifulSoup(html.read(),'html.parser')\n",
    "print(soup)"
   ]
  },
  {
   "cell_type": "markdown",
   "metadata": {},
   "source": [
    "If you've never seen the html of a webpage before, this can look quite intimidating. Learning all about html is outside the scope of this project. For now, just note that every html feature on the webpage has some sort of label, which BeautifulSoup can use to locate.\n",
    "\n",
    "Instead of looking through this html for what you want, it's often much easier to open the page in a browser and 'inspect element' to see the underlaying html code.\n",
    "\n",
    "At least on my computer, that's just a rightclick->inspect element on the feature I want the html tag infomation for.\n",
    "\n",
    "You should try this yourself. First find the html for the bold date and make sure it is the same as in the black box code above."
   ]
  },
  {
   "cell_type": "markdown",
   "metadata": {},
   "source": [
    "Next, find the write tags to get the actual mean temperature on Feb. 8th, 2014. (you should get \"['31']\")\n",
    "\n",
    "Example from black box above:"
   ]
  },
  {
   "cell_type": "code",
   "execution_count": null,
   "metadata": {
    "collapsed": false
   },
   "outputs": [],
   "source": [
    "#write your terms in here\n",
    "print(soup.find('',class_='').contents)"
   ]
  },
  {
   "cell_type": "markdown",
   "metadata": {},
   "source": [
    "So are we in the clear? Almost, but try looking up the tags for the average mean temperature. They probably look the same as for the actual mean temperature.\n",
    "\n",
    "While each object in the html has tags, they are not all unique. We can see this by using find_all instead of find.\n",
    "\n",
    "Example:"
   ]
  },
  {
   "cell_type": "code",
   "execution_count": 71,
   "metadata": {
    "collapsed": false
   },
   "outputs": [
    {
     "name": "stdout",
     "output_type": "stream",
     "text": [
      "[<h2 class=\"city-nav-header is-parent\">\n",
      "\t\tAlvadore, OR\n",
      "\t\t<i class=\"fi-star favorite-star \" data-zmw=\"97409.4.99999\"></i>\n",
      "<dfn class=\"no-decoration\" data-definition=\"Add/Remove home city location.\">\n",
      "<i class=\"fi-home homecity-button notHomepage\" onclick=\"wui.favorites.home.toggle('97409.4.99999', this, 'isHomepage', 'notHomepage', 'Mahlon Sweet, OR');return false;\"></i>\n",
      "</dfn>\n",
      "<i class=\"fi-list favorite-menu right-off-canvas-toggle none\"></i>\n",
      "</h2>, <h2 class=\"history-date\">Saturday, February 8, 2014</h2>, <h2>Daily Weather History Graph</h2>, <h2>\n",
      "\t\tHourly Weather History &amp; Observations\n",
      "\t\t</h2>]\n"
     ]
    }
   ],
   "source": [
    "print(soup.find_all('h2'))"
   ]
  },
  {
   "cell_type": "markdown",
   "metadata": {},
   "source": [
    "Try the same with the tags used to get the temperature values:"
   ]
  },
  {
   "cell_type": "code",
   "execution_count": 73,
   "metadata": {
    "collapsed": false
   },
   "outputs": [],
   "source": [
    "print(soup.find_all('',class_=''))"
   ]
  },
  {
   "cell_type": "markdown",
   "metadata": {},
   "source": [
    "If you were successful, we have all the data we want. The first 8 entries are the various temperature records. We just need to peel them away and save them somewhere locally.\n",
    "\n",
    "Of course, this all goes wrong if every page isn't exactly like this page. We could be fancier and build in some checks, etc. But we won't worry about that here.\n",
    "\n",
    "However, if you'd like to get a bit more information from that table, here's an example code to do just that:"
   ]
  },
  {
   "cell_type": "code",
   "execution_count": 98,
   "metadata": {
    "collapsed": false
   },
   "outputs": [
    {
     "name": "stdout",
     "output_type": "stream",
     "text": [
      "<td class=\"indent\"><span>Mean Temperature</span></td>\n",
      "\n",
      "\n",
      "<td>\n",
      "<span class=\"wx-data\"><span class=\"wx-value\">31</span><span class=\"wx-unit\"> °F</span></span>\n",
      "</td>\n",
      "['31']\n",
      "\n",
      "\n",
      "<td>\n",
      "<span class=\"wx-data\"><span class=\"wx-value\">42</span><span class=\"wx-unit\"> °F</span></span>\n",
      "</td>\n",
      "['42']\n",
      "\n",
      "\n",
      "<td> </td>\n",
      "\n",
      "\n",
      "None\n"
     ]
    }
   ],
   "source": [
    "#All the historical data is in a table in the html (inspect element around the browser to see this).\n",
    "#I start by only looking at the table\n",
    "soup2=soup.find('table', class_='responsive airport-history-summary-table');\n",
    "#each row of the table has it's only class \"indent\", so I find all of those:\n",
    "classSet=soup2.find_all(class_='indent');\n",
    "#I then can go to a particular row and print out all values within that row\n",
    "a=classSet[0] #change here to go to a different row\n",
    "print(a)\n",
    "#Each sibling group only has size 8. I let the range run to 10 to show how break is used in the if statment.\n",
    "for x in range(0,10):\n",
    "    a=a.next_sibling\n",
    "    print(a)\n",
    "    if 'wx-value' in str(a):\n",
    "        b=a.find(class_='wx-value')\n",
    "        print(b.contents)\n",
    "    if a==None:\n",
    "        break"
   ]
  },
  {
   "cell_type": "markdown",
   "metadata": {},
   "source": [
    "## Saving the data locally"
   ]
  },
  {
   "cell_type": "markdown",
   "metadata": {},
   "source": [
    "Now that we have the data, we need to save it somewhere locally. To do that we will use the python module pandas, which is very useful for creating dataframes (think excel tables).\n",
    "\n",
    "example:"
   ]
  },
  {
   "cell_type": "code",
   "execution_count": 114,
   "metadata": {
    "collapsed": false
   },
   "outputs": [
    {
     "data": {
      "text/html": [
       "<div>\n",
       "<table border=\"1\" class=\"dataframe\">\n",
       "  <thead>\n",
       "    <tr style=\"text-align: right;\">\n",
       "      <th></th>\n",
       "      <th>Col1</th>\n",
       "      <th>Col2</th>\n",
       "      <th>Col3</th>\n",
       "      <th>Col4</th>\n",
       "    </tr>\n",
       "  </thead>\n",
       "  <tbody>\n",
       "    <tr>\n",
       "      <th>0</th>\n",
       "      <td>A</td>\n",
       "      <td>b</td>\n",
       "      <td>c</td>\n",
       "      <td>d</td>\n",
       "    </tr>\n",
       "  </tbody>\n",
       "</table>\n",
       "</div>"
      ],
      "text/plain": [
       "  Col1 Col2 Col3 Col4\n",
       "0    A    b    c    d"
      ]
     },
     "execution_count": 114,
     "metadata": {},
     "output_type": "execute_result"
    }
   ],
   "source": [
    "import pandas as pd\n",
    "df=pd.DataFrame(columns=['Col1','Col2','Col3','Col4']);\n",
    "df.loc[0,'Col1']='A' #appending the date using the .loc method to make use of the column name\n",
    "vals=['b','c','d']\n",
    "df.iloc[0,1:]=vals #appending the temperature data using the .iloc method to make use of column locations\n",
    "df"
   ]
  },
  {
   "cell_type": "markdown",
   "metadata": {},
   "source": [
    "Create a pandas dataframe with 9 columns. The first should be for the date the data came from. The remaining 8 should be for the various temperature values given on the webpage."
   ]
  },
  {
   "cell_type": "code",
   "execution_count": 142,
   "metadata": {
    "collapsed": true
   },
   "outputs": [],
   "source": [
    "df="
   ]
  },
  {
   "cell_type": "markdown",
   "metadata": {},
   "source": [
    "Now to add the values.\n",
    "\n",
    "First, save the date information."
   ]
  },
  {
   "cell_type": "code",
   "execution_count": 143,
   "metadata": {
    "collapsed": true
   },
   "outputs": [],
   "source": [
    "#df.loc[0,'']=soup.find('',class_='').contents"
   ]
  },
  {
   "cell_type": "markdown",
   "metadata": {},
   "source": [
    "To save the temperature date, I suggest using a for loop to go through the first 8 returns from the find_all code above.\n",
    "\n",
    "Example:"
   ]
  },
  {
   "cell_type": "code",
   "execution_count": 151,
   "metadata": {
    "collapsed": false
   },
   "outputs": [
    {
     "name": "stdout",
     "output_type": "stream",
     "text": [
      "['31']\n",
      "['42']\n",
      "['32']\n",
      "['50']\n",
      "['67']\n",
      "['29']\n",
      "['35']\n",
      "['8']\n"
     ]
    }
   ],
   "source": [
    "tableData=soup.find_all('span',class_='wx-value')\n",
    "for x in range(0,8):\n",
    "    print(tableData[x].contents)"
   ]
  },
  {
   "cell_type": "code",
   "execution_count": 149,
   "metadata": {
    "collapsed": false
   },
   "outputs": [
    {
     "data": {
      "text/html": [
       "<div>\n",
       "<table border=\"1\" class=\"dataframe\">\n",
       "  <thead>\n",
       "    <tr style=\"text-align: right;\">\n",
       "      <th></th>\n",
       "      <th>Date</th>\n",
       "      <th>1</th>\n",
       "      <th>2</th>\n",
       "      <th>3</th>\n",
       "      <th>4</th>\n",
       "      <th>5</th>\n",
       "      <th>6</th>\n",
       "      <th>7</th>\n",
       "      <th>8</th>\n",
       "    </tr>\n",
       "  </thead>\n",
       "  <tbody>\n",
       "    <tr>\n",
       "      <th>0</th>\n",
       "      <td>[Saturday, February 8, 2014]</td>\n",
       "      <td>[31]</td>\n",
       "      <td>[42]</td>\n",
       "      <td>[32]</td>\n",
       "      <td>[50]</td>\n",
       "      <td>[67]</td>\n",
       "      <td>[29]</td>\n",
       "      <td>[35]</td>\n",
       "      <td>[8]</td>\n",
       "    </tr>\n",
       "  </tbody>\n",
       "</table>\n",
       "</div>"
      ],
      "text/plain": [
       "                           Date     1     2     3     4     5     6     7    8\n",
       "0  [Saturday, February 8, 2014]  [31]  [42]  [32]  [50]  [67]  [29]  [35]  [8]"
      ]
     },
     "execution_count": 149,
     "metadata": {},
     "output_type": "execute_result"
    }
   ],
   "source": [
    "df"
   ]
  },
  {
   "cell_type": "markdown",
   "metadata": {},
   "source": [
    "Short section, right?"
   ]
  },
  {
   "cell_type": "markdown",
   "metadata": {},
   "source": [
    "## Repeating the above steps for many pages."
   ]
  },
  {
   "cell_type": "markdown",
   "metadata": {},
   "source": [
    "Finally, we want to repeat this process for many different dates. \n",
    "\n",
    "Recall from section 1 that we used variable string replacement to control which url we were opening:"
   ]
  },
  {
   "cell_type": "code",
   "execution_count": 133,
   "metadata": {
    "collapsed": false
   },
   "outputs": [
    {
     "name": "stdout",
     "output_type": "stream",
     "text": [
      "['Saturday, February 8, 2014']\n"
     ]
    }
   ],
   "source": [
    "year='2014';\n",
    "month='02';\n",
    "day='08';\n",
    "#modify the url here:\n",
    "url=\"https://www.wunderground.com/history/airport/KEUG/%s/%s/%s/DailyHistory.htmlreq_city=Eugene&req_state=OR&req_statename=Oregon&reqdb.zip=97404&reqdb.magic=1&reqdb.wmo=99999\" % (year, month, day);\n",
    "html=urlopen(url)\n",
    "#This next section navigates through the html and prints the date to help verify\n",
    "#the variable string replacement was successful. We'll get into using BeautifulSoup in the next section!\n",
    "#Fow now, just treat it asa a black box\n",
    "from bs4 import BeautifulSoup #black box\n",
    "soup=BeautifulSoup(html.read(),'html.parser') #black box\n",
    "print(soup.find('h2',class_='history-date').contents) #black box"
   ]
  },
  {
   "cell_type": "markdown",
   "metadata": {},
   "source": [
    "Now we want a way to automatically go through many dates. We can use the python module datetime to easily move through dates:\n",
    "\n",
    "example:"
   ]
  },
  {
   "cell_type": "code",
   "execution_count": 137,
   "metadata": {
    "collapsed": false
   },
   "outputs": [
    {
     "name": "stdout",
     "output_type": "stream",
     "text": [
      "2017-01-05\n",
      "2014-02-08\n"
     ]
    }
   ],
   "source": [
    "import datetime\n",
    "print(datetime.date.today())\n",
    "print(datetime.date(2014,2,8))"
   ]
  },
  {
   "cell_type": "markdown",
   "metadata": {},
   "source": [
    "What makes datetime nice is it allows for basic addition and subtraction of days.\n",
    "\n",
    "Example:"
   ]
  },
  {
   "cell_type": "code",
   "execution_count": 139,
   "metadata": {
    "collapsed": false
   },
   "outputs": [
    {
     "name": "stdout",
     "output_type": "stream",
     "text": [
      "2017-01-05\n",
      "2017-01-04\n",
      "2016-12-29\n"
     ]
    }
   ],
   "source": [
    "one_day = datetime.timedelta(days=1);\n",
    "one_week= datetime.timedelta(days=7);\n",
    "print(datetime.date.today())\n",
    "print(datetime.date.today()-one_day)\n",
    "print(datetime.date.today()-one_week)"
   ]
  },
  {
   "cell_type": "markdown",
   "metadata": {},
   "source": [
    "The only tricky thing is you have to ask for the datetime to give you the values of the date if you want them for another application.\n",
    "\n",
    "Example:"
   ]
  },
  {
   "cell_type": "code",
   "execution_count": 156,
   "metadata": {
    "collapsed": false
   },
   "outputs": [
    {
     "name": "stdout",
     "output_type": "stream",
     "text": [
      "2017-01-05\n",
      "<class 'datetime.date'>\n",
      "2017 01 05\n",
      "<class 'str'>\n",
      "2017\n",
      "01\n",
      "05\n"
     ]
    }
   ],
   "source": [
    "date1=datetime.date.today()\n",
    "print(date1)\n",
    "print(type(date1))\n",
    "date2=date1.strftime('%Y %m %d') #Asking for the values in a string. %Y gives 4 digit year. %y gives 2 digit year.\n",
    "print(date2)\n",
    "print(type(date2))\n",
    "date3=date2.split(' ')\n",
    "yr,mo,da=date3\n",
    "print(yr)\n",
    "print(mo)\n",
    "print(da)"
   ]
  },
  {
   "cell_type": "markdown",
   "metadata": {},
   "source": [
    "Use date time to get the right numbers to put into the url for the weather on  Feb. 5th, 2014."
   ]
  },
  {
   "cell_type": "code",
   "execution_count": 160,
   "metadata": {
    "collapsed": false
   },
   "outputs": [
    {
     "name": "stdout",
     "output_type": "stream",
     "text": [
      "['Wednesday, February 5, 2014']\n"
     ]
    }
   ],
   "source": [
    "#use datetime to fill in the variables year, month, and day:\n",
    "year,month,day=\n",
    "\n",
    "url=\"https://www.wunderground.com/history/airport/KEUG/%s/%s/%s/DailyHistory.htmlreq_city=Eugene&req_state=OR&req_statename=Oregon&reqdb.zip=97404&reqdb.magic=1&reqdb.wmo=99999\" % (year, month, day);\n",
    "html=urlopen(url)\n",
    "from bs4 import BeautifulSoup\n",
    "soup=BeautifulSoup(html.read(),'html.parser')\n",
    "print(soup.find('h2',class_='history-date').contents)"
   ]
  },
  {
   "cell_type": "markdown",
   "metadata": {},
   "source": [
    "Finally, write a loop to visit the days from Feb. 5th, 2014 to Feb. 13, 2014.\n",
    "\n",
    "Example:"
   ]
  },
  {
   "cell_type": "code",
   "execution_count": 165,
   "metadata": {
    "collapsed": false
   },
   "outputs": [
    {
     "name": "stdout",
     "output_type": "stream",
     "text": [
      "2017-01-05\n",
      "2017-01-04\n",
      "2017-01-03\n",
      "2017-01-02\n",
      "2017-01-01\n",
      "2016-12-31\n",
      "2016-12-30\n"
     ]
    }
   ],
   "source": [
    "startingDay=datetime.date.today()\n",
    "one_day=datetime.timedelta(days=1);\n",
    "for x in range(0,7):\n",
    "    print(startingDay)\n",
    "    startingDay=startingDay-one_day"
   ]
  },
  {
   "cell_type": "code",
   "execution_count": 179,
   "metadata": {
    "collapsed": false
   },
   "outputs": [],
   "source": [
    "#choose a starting date with datetime here:\n",
    "startingDay=\n",
    "#define the number of days we will go through with each step here:\n",
    "one_day = \n",
    "#write the loop here:\n"
   ]
  },
  {
   "cell_type": "markdown",
   "metadata": {},
   "source": [
    "## Combine it all."
   ]
  },
  {
   "cell_type": "markdown",
   "metadata": {},
   "source": [
    "The time has finally come to combine everything to make a viable webscraper. Write a webscraper to collect the last 30 days of temperature values.\n",
    "\n",
    "A few hints: \n",
    "\n",
    "    1) create your dataframe at the beginning, before you enter your for loop.\n",
    "    \n",
    "    2) If you have nested for loops, make sure they don't have the same variable.\n",
    "    \n",
    "    3) To test, run your for loop just a few times instead of over the entire range.\n",
    "    \n",
    "Good luck!"
   ]
  },
  {
   "cell_type": "code",
   "execution_count": 170,
   "metadata": {
    "collapsed": false
   },
   "outputs": [
    {
     "data": {
      "text/html": [
       "<div>\n",
       "<table border=\"1\" class=\"dataframe\">\n",
       "  <thead>\n",
       "    <tr style=\"text-align: right;\">\n",
       "      <th></th>\n",
       "      <th>Date</th>\n",
       "      <th>1</th>\n",
       "      <th>2</th>\n",
       "      <th>3</th>\n",
       "      <th>4</th>\n",
       "      <th>5</th>\n",
       "      <th>6</th>\n",
       "      <th>7</th>\n",
       "      <th>8</th>\n",
       "    </tr>\n",
       "  </thead>\n",
       "  <tbody>\n",
       "    <tr>\n",
       "      <th>0</th>\n",
       "      <td>[Thursday, January 5, 2017]</td>\n",
       "      <td>[24]</td>\n",
       "      <td>[40]</td>\n",
       "      <td>[33]</td>\n",
       "      <td>[46]</td>\n",
       "      <td>[67]</td>\n",
       "      <td>[15]</td>\n",
       "      <td>[34]</td>\n",
       "      <td>[15]</td>\n",
       "    </tr>\n",
       "    <tr>\n",
       "      <th>1</th>\n",
       "      <td>[Wednesday, January 4, 2017]</td>\n",
       "      <td>[28]</td>\n",
       "      <td>[40]</td>\n",
       "      <td>[33]</td>\n",
       "      <td>[46]</td>\n",
       "      <td>[69]</td>\n",
       "      <td>[21]</td>\n",
       "      <td>[34]</td>\n",
       "      <td>[14]</td>\n",
       "    </tr>\n",
       "    <tr>\n",
       "      <th>2</th>\n",
       "      <td>[Tuesday, January 3, 2017]</td>\n",
       "      <td>[30]</td>\n",
       "      <td>[40]</td>\n",
       "      <td>[35]</td>\n",
       "      <td>[46]</td>\n",
       "      <td>[60]</td>\n",
       "      <td>[25]</td>\n",
       "      <td>[34]</td>\n",
       "      <td>[9]</td>\n",
       "    </tr>\n",
       "    <tr>\n",
       "      <th>3</th>\n",
       "      <td>[Monday, January 2, 2017]</td>\n",
       "      <td>[34]</td>\n",
       "      <td>[40]</td>\n",
       "      <td>[37]</td>\n",
       "      <td>[46]</td>\n",
       "      <td>[57]</td>\n",
       "      <td>[30]</td>\n",
       "      <td>[34]</td>\n",
       "      <td>[8]</td>\n",
       "    </tr>\n",
       "    <tr>\n",
       "      <th>4</th>\n",
       "      <td>[Sunday, January 1, 2017]</td>\n",
       "      <td>[36]</td>\n",
       "      <td>[39]</td>\n",
       "      <td>[39]</td>\n",
       "      <td>[45]</td>\n",
       "      <td>[61]</td>\n",
       "      <td>[34]</td>\n",
       "      <td>[34]</td>\n",
       "      <td>[7]</td>\n",
       "    </tr>\n",
       "    <tr>\n",
       "      <th>5</th>\n",
       "      <td>[Saturday, December 31, 2016]</td>\n",
       "      <td>[33]</td>\n",
       "      <td>[39]</td>\n",
       "      <td>[36]</td>\n",
       "      <td>[45]</td>\n",
       "      <td>[62]</td>\n",
       "      <td>[29]</td>\n",
       "      <td>[34]</td>\n",
       "      <td>[10]</td>\n",
       "    </tr>\n",
       "    <tr>\n",
       "      <th>6</th>\n",
       "      <td>[Friday, December 30, 2016]</td>\n",
       "      <td>[39]</td>\n",
       "      <td>[39]</td>\n",
       "      <td>[47]</td>\n",
       "      <td>[45]</td>\n",
       "      <td>[66]</td>\n",
       "      <td>[31]</td>\n",
       "      <td>[33]</td>\n",
       "      <td>[10]</td>\n",
       "    </tr>\n",
       "    <tr>\n",
       "      <th>7</th>\n",
       "      <td>[Thursday, December 29, 2016]</td>\n",
       "      <td>[43]</td>\n",
       "      <td>[39]</td>\n",
       "      <td>[53]</td>\n",
       "      <td>[45]</td>\n",
       "      <td>[63]</td>\n",
       "      <td>[33]</td>\n",
       "      <td>[33]</td>\n",
       "      <td>[12]</td>\n",
       "    </tr>\n",
       "    <tr>\n",
       "      <th>8</th>\n",
       "      <td>[Wednesday, December 28, 2016]</td>\n",
       "      <td>[36]</td>\n",
       "      <td>[39]</td>\n",
       "      <td>[41]</td>\n",
       "      <td>[45]</td>\n",
       "      <td>[65]</td>\n",
       "      <td>[30]</td>\n",
       "      <td>[33]</td>\n",
       "      <td>[19]</td>\n",
       "    </tr>\n",
       "    <tr>\n",
       "      <th>9</th>\n",
       "      <td>[Tuesday, December 27, 2016]</td>\n",
       "      <td>[44]</td>\n",
       "      <td>[39]</td>\n",
       "      <td>[47]</td>\n",
       "      <td>[45]</td>\n",
       "      <td>[61]</td>\n",
       "      <td>[40]</td>\n",
       "      <td>[33]</td>\n",
       "      <td>[16]</td>\n",
       "    </tr>\n",
       "    <tr>\n",
       "      <th>10</th>\n",
       "      <td>[Monday, December 26, 2016]</td>\n",
       "      <td>[33]</td>\n",
       "      <td>[39]</td>\n",
       "      <td>[43]</td>\n",
       "      <td>[45]</td>\n",
       "      <td>[62]</td>\n",
       "      <td>[23]</td>\n",
       "      <td>[33]</td>\n",
       "      <td>[1]</td>\n",
       "    </tr>\n",
       "    <tr>\n",
       "      <th>11</th>\n",
       "      <td>[Sunday, December 25, 2016]</td>\n",
       "      <td>[35]</td>\n",
       "      <td>[39]</td>\n",
       "      <td>[44]</td>\n",
       "      <td>[45]</td>\n",
       "      <td>[62]</td>\n",
       "      <td>[25]</td>\n",
       "      <td>[33]</td>\n",
       "      <td>[-1]</td>\n",
       "    </tr>\n",
       "    <tr>\n",
       "      <th>12</th>\n",
       "      <td>[Saturday, December 24, 2016]</td>\n",
       "      <td>[35]</td>\n",
       "      <td>[39]</td>\n",
       "      <td>[44]</td>\n",
       "      <td>[45]</td>\n",
       "      <td>[60]</td>\n",
       "      <td>[26]</td>\n",
       "      <td>[33]</td>\n",
       "      <td>[-4]</td>\n",
       "    </tr>\n",
       "    <tr>\n",
       "      <th>13</th>\n",
       "      <td>[Friday, December 23, 2016]</td>\n",
       "      <td>[40]</td>\n",
       "      <td>[39]</td>\n",
       "      <td>[45]</td>\n",
       "      <td>[45]</td>\n",
       "      <td>[66]</td>\n",
       "      <td>[35]</td>\n",
       "      <td>[33]</td>\n",
       "      <td>[-2]</td>\n",
       "    </tr>\n",
       "    <tr>\n",
       "      <th>14</th>\n",
       "      <td>[Thursday, December 22, 2016]</td>\n",
       "      <td>[38]</td>\n",
       "      <td>[39]</td>\n",
       "      <td>[45]</td>\n",
       "      <td>[45]</td>\n",
       "      <td>[62]</td>\n",
       "      <td>[30]</td>\n",
       "      <td>[33]</td>\n",
       "      <td>[4]</td>\n",
       "    </tr>\n",
       "    <tr>\n",
       "      <th>15</th>\n",
       "      <td>[Wednesday, December 21, 2016]</td>\n",
       "      <td>[31]</td>\n",
       "      <td>[39]</td>\n",
       "      <td>[33]</td>\n",
       "      <td>[45]</td>\n",
       "      <td>[62]</td>\n",
       "      <td>[29]</td>\n",
       "      <td>[33]</td>\n",
       "      <td>[6]</td>\n",
       "    </tr>\n",
       "    <tr>\n",
       "      <th>16</th>\n",
       "      <td>[Tuesday, December 20, 2016]</td>\n",
       "      <td>[40]</td>\n",
       "      <td>[39]</td>\n",
       "      <td>[51]</td>\n",
       "      <td>[45]</td>\n",
       "      <td>[64]</td>\n",
       "      <td>[28]</td>\n",
       "      <td>[33]</td>\n",
       "      <td>[7]</td>\n",
       "    </tr>\n",
       "    <tr>\n",
       "      <th>17</th>\n",
       "      <td>[Monday, December 19, 2016]</td>\n",
       "      <td>[38]</td>\n",
       "      <td>[39]</td>\n",
       "      <td>[45]</td>\n",
       "      <td>[45]</td>\n",
       "      <td>[64]</td>\n",
       "      <td>[30]</td>\n",
       "      <td>[33]</td>\n",
       "      <td>[4]</td>\n",
       "    </tr>\n",
       "    <tr>\n",
       "      <th>18</th>\n",
       "      <td>[Sunday, December 18, 2016]</td>\n",
       "      <td>[29]</td>\n",
       "      <td>[39]</td>\n",
       "      <td>[31]</td>\n",
       "      <td>[45]</td>\n",
       "      <td>[64]</td>\n",
       "      <td>[26]</td>\n",
       "      <td>[33]</td>\n",
       "      <td>[2]</td>\n",
       "    </tr>\n",
       "    <tr>\n",
       "      <th>19</th>\n",
       "      <td>[Saturday, December 17, 2016]</td>\n",
       "      <td>[31]</td>\n",
       "      <td>[39]</td>\n",
       "      <td>[34]</td>\n",
       "      <td>[45]</td>\n",
       "      <td>[68]</td>\n",
       "      <td>[28]</td>\n",
       "      <td>[33]</td>\n",
       "      <td>[10]</td>\n",
       "    </tr>\n",
       "    <tr>\n",
       "      <th>20</th>\n",
       "      <td>[Friday, December 16, 2016]</td>\n",
       "      <td>[39]</td>\n",
       "      <td>[45]</td>\n",
       "      <td>[61]</td>\n",
       "      <td>[34]</td>\n",
       "      <td>[10]</td>\n",
       "      <td>[0.00]</td>\n",
       "      <td>[0.25]</td>\n",
       "      <td>[1.58]</td>\n",
       "    </tr>\n",
       "    <tr>\n",
       "      <th>21</th>\n",
       "      <td>[Thursday, December 15, 2016]</td>\n",
       "      <td>[39]</td>\n",
       "      <td>[45]</td>\n",
       "      <td>[65]</td>\n",
       "      <td>[34]</td>\n",
       "      <td>[10]</td>\n",
       "      <td>[0.00]</td>\n",
       "      <td>[0.25]</td>\n",
       "      <td>[3.02]</td>\n",
       "    </tr>\n",
       "    <tr>\n",
       "      <th>22</th>\n",
       "      <td>[Wednesday, December 14, 2016]</td>\n",
       "      <td>[32]</td>\n",
       "      <td>[39]</td>\n",
       "      <td>[34]</td>\n",
       "      <td>[45]</td>\n",
       "      <td>[60]</td>\n",
       "      <td>[30]</td>\n",
       "      <td>[34]</td>\n",
       "      <td>[-2]</td>\n",
       "    </tr>\n",
       "    <tr>\n",
       "      <th>23</th>\n",
       "      <td>[Tuesday, December 13, 2016]</td>\n",
       "      <td>[34]</td>\n",
       "      <td>[40]</td>\n",
       "      <td>[38]</td>\n",
       "      <td>[45]</td>\n",
       "      <td>[64]</td>\n",
       "      <td>[30]</td>\n",
       "      <td>[34]</td>\n",
       "      <td>[-3]</td>\n",
       "    </tr>\n",
       "    <tr>\n",
       "      <th>24</th>\n",
       "      <td>[Monday, December 12, 2016]</td>\n",
       "      <td>[39]</td>\n",
       "      <td>[40]</td>\n",
       "      <td>[48]</td>\n",
       "      <td>[46]</td>\n",
       "      <td>[65]</td>\n",
       "      <td>[29]</td>\n",
       "      <td>[34]</td>\n",
       "      <td>[4]</td>\n",
       "    </tr>\n",
       "    <tr>\n",
       "      <th>25</th>\n",
       "      <td>[Sunday, December 11, 2016]</td>\n",
       "      <td>[45]</td>\n",
       "      <td>[40]</td>\n",
       "      <td>[47]</td>\n",
       "      <td>[46]</td>\n",
       "      <td>[62]</td>\n",
       "      <td>[42]</td>\n",
       "      <td>[34]</td>\n",
       "      <td>[-5]</td>\n",
       "    </tr>\n",
       "    <tr>\n",
       "      <th>26</th>\n",
       "      <td>[Saturday, December 10, 2016]</td>\n",
       "      <td>[46]</td>\n",
       "      <td>[40]</td>\n",
       "      <td>[50]</td>\n",
       "      <td>[46]</td>\n",
       "      <td>[64]</td>\n",
       "      <td>[41]</td>\n",
       "      <td>[34]</td>\n",
       "      <td>[-7]</td>\n",
       "    </tr>\n",
       "    <tr>\n",
       "      <th>27</th>\n",
       "      <td>[Friday, December 9, 2016]</td>\n",
       "      <td>[43]</td>\n",
       "      <td>[40]</td>\n",
       "      <td>[49]</td>\n",
       "      <td>[46]</td>\n",
       "      <td>[67]</td>\n",
       "      <td>[36]</td>\n",
       "      <td>[34]</td>\n",
       "      <td>[-5]</td>\n",
       "    </tr>\n",
       "    <tr>\n",
       "      <th>28</th>\n",
       "      <td>[Thursday, December 8, 2016]</td>\n",
       "      <td>[32]</td>\n",
       "      <td>[40]</td>\n",
       "      <td>[36]</td>\n",
       "      <td>[46]</td>\n",
       "      <td>[62]</td>\n",
       "      <td>[28]</td>\n",
       "      <td>[34]</td>\n",
       "      <td>[-12]</td>\n",
       "    </tr>\n",
       "    <tr>\n",
       "      <th>29</th>\n",
       "      <td>[Wednesday, December 7, 2016]</td>\n",
       "      <td>[31]</td>\n",
       "      <td>[40]</td>\n",
       "      <td>[35]</td>\n",
       "      <td>[46]</td>\n",
       "      <td>[67]</td>\n",
       "      <td>[27]</td>\n",
       "      <td>[34]</td>\n",
       "      <td>[-7]</td>\n",
       "    </tr>\n",
       "  </tbody>\n",
       "</table>\n",
       "</div>"
      ],
      "text/plain": [
       "                              Date     1     2     3     4     5       6  \\\n",
       "0      [Thursday, January 5, 2017]  [24]  [40]  [33]  [46]  [67]    [15]   \n",
       "1     [Wednesday, January 4, 2017]  [28]  [40]  [33]  [46]  [69]    [21]   \n",
       "2       [Tuesday, January 3, 2017]  [30]  [40]  [35]  [46]  [60]    [25]   \n",
       "3        [Monday, January 2, 2017]  [34]  [40]  [37]  [46]  [57]    [30]   \n",
       "4        [Sunday, January 1, 2017]  [36]  [39]  [39]  [45]  [61]    [34]   \n",
       "5    [Saturday, December 31, 2016]  [33]  [39]  [36]  [45]  [62]    [29]   \n",
       "6      [Friday, December 30, 2016]  [39]  [39]  [47]  [45]  [66]    [31]   \n",
       "7    [Thursday, December 29, 2016]  [43]  [39]  [53]  [45]  [63]    [33]   \n",
       "8   [Wednesday, December 28, 2016]  [36]  [39]  [41]  [45]  [65]    [30]   \n",
       "9     [Tuesday, December 27, 2016]  [44]  [39]  [47]  [45]  [61]    [40]   \n",
       "10     [Monday, December 26, 2016]  [33]  [39]  [43]  [45]  [62]    [23]   \n",
       "11     [Sunday, December 25, 2016]  [35]  [39]  [44]  [45]  [62]    [25]   \n",
       "12   [Saturday, December 24, 2016]  [35]  [39]  [44]  [45]  [60]    [26]   \n",
       "13     [Friday, December 23, 2016]  [40]  [39]  [45]  [45]  [66]    [35]   \n",
       "14   [Thursday, December 22, 2016]  [38]  [39]  [45]  [45]  [62]    [30]   \n",
       "15  [Wednesday, December 21, 2016]  [31]  [39]  [33]  [45]  [62]    [29]   \n",
       "16    [Tuesday, December 20, 2016]  [40]  [39]  [51]  [45]  [64]    [28]   \n",
       "17     [Monday, December 19, 2016]  [38]  [39]  [45]  [45]  [64]    [30]   \n",
       "18     [Sunday, December 18, 2016]  [29]  [39]  [31]  [45]  [64]    [26]   \n",
       "19   [Saturday, December 17, 2016]  [31]  [39]  [34]  [45]  [68]    [28]   \n",
       "20     [Friday, December 16, 2016]  [39]  [45]  [61]  [34]  [10]  [0.00]   \n",
       "21   [Thursday, December 15, 2016]  [39]  [45]  [65]  [34]  [10]  [0.00]   \n",
       "22  [Wednesday, December 14, 2016]  [32]  [39]  [34]  [45]  [60]    [30]   \n",
       "23    [Tuesday, December 13, 2016]  [34]  [40]  [38]  [45]  [64]    [30]   \n",
       "24     [Monday, December 12, 2016]  [39]  [40]  [48]  [46]  [65]    [29]   \n",
       "25     [Sunday, December 11, 2016]  [45]  [40]  [47]  [46]  [62]    [42]   \n",
       "26   [Saturday, December 10, 2016]  [46]  [40]  [50]  [46]  [64]    [41]   \n",
       "27      [Friday, December 9, 2016]  [43]  [40]  [49]  [46]  [67]    [36]   \n",
       "28    [Thursday, December 8, 2016]  [32]  [40]  [36]  [46]  [62]    [28]   \n",
       "29   [Wednesday, December 7, 2016]  [31]  [40]  [35]  [46]  [67]    [27]   \n",
       "\n",
       "         7       8  \n",
       "0     [34]    [15]  \n",
       "1     [34]    [14]  \n",
       "2     [34]     [9]  \n",
       "3     [34]     [8]  \n",
       "4     [34]     [7]  \n",
       "5     [34]    [10]  \n",
       "6     [33]    [10]  \n",
       "7     [33]    [12]  \n",
       "8     [33]    [19]  \n",
       "9     [33]    [16]  \n",
       "10    [33]     [1]  \n",
       "11    [33]    [-1]  \n",
       "12    [33]    [-4]  \n",
       "13    [33]    [-2]  \n",
       "14    [33]     [4]  \n",
       "15    [33]     [6]  \n",
       "16    [33]     [7]  \n",
       "17    [33]     [4]  \n",
       "18    [33]     [2]  \n",
       "19    [33]    [10]  \n",
       "20  [0.25]  [1.58]  \n",
       "21  [0.25]  [3.02]  \n",
       "22    [34]    [-2]  \n",
       "23    [34]    [-3]  \n",
       "24    [34]     [4]  \n",
       "25    [34]    [-5]  \n",
       "26    [34]    [-7]  \n",
       "27    [34]    [-5]  \n",
       "28    [34]   [-12]  \n",
       "29    [34]    [-7]  "
      ]
     },
     "execution_count": 170,
     "metadata": {},
     "output_type": "execute_result"
    }
   ],
   "source": [
    "\n",
    "df"
   ]
  },
  {
   "cell_type": "markdown",
   "metadata": {},
   "source": [
    "## Extras:\n",
    "\n",
    "If you have time, you can clean up your saved data. You might have noticed "
   ]
  },
  {
   "cell_type": "code",
   "execution_count": 115,
   "metadata": {
    "collapsed": false
   },
   "outputs": [
    {
     "data": {
      "text/plain": [
       "['Saturday, February 8, 2014']"
      ]
     },
     "execution_count": 115,
     "metadata": {},
     "output_type": "execute_result"
    }
   ],
   "source": [
    "soup.find('h2',class_='history-date').contents"
   ]
  },
  {
   "cell_type": "code",
   "execution_count": 125,
   "metadata": {
    "collapsed": false
   },
   "outputs": [
    {
     "data": {
      "text/plain": [
       "datetime.datetime(1900, 1, 1, 0, 0)"
      ]
     },
     "execution_count": 125,
     "metadata": {},
     "output_type": "execute_result"
    }
   ],
   "source": [
    "datetime.datetime.strptime('Saturday','%A')"
   ]
  },
  {
   "cell_type": "code",
   "execution_count": 128,
   "metadata": {
    "collapsed": false
   },
   "outputs": [
    {
     "data": {
      "text/plain": [
       "datetime.datetime(1900, 2, 1, 0, 0)"
      ]
     },
     "execution_count": 128,
     "metadata": {},
     "output_type": "execute_result"
    }
   ],
   "source": [
    "datetime.datetime.strptime('February','%B')"
   ]
  },
  {
   "cell_type": "code",
   "execution_count": 132,
   "metadata": {
    "collapsed": false
   },
   "outputs": [
    {
     "data": {
      "text/plain": [
       "datetime.datetime(2014, 2, 8, 0, 0)"
      ]
     },
     "execution_count": 132,
     "metadata": {},
     "output_type": "execute_result"
    }
   ],
   "source": [
    "datetime.datetime.strptime('Saturday February 8 2014', '%A %B %d %Y')"
   ]
  }
 ],
 "metadata": {
  "anaconda-cloud": {},
  "kernelspec": {
   "display_name": "Python [default]",
   "language": "python",
   "name": "python3"
  },
  "language_info": {
   "codemirror_mode": {
    "name": "ipython",
    "version": 3
   },
   "file_extension": ".py",
   "mimetype": "text/x-python",
   "name": "python",
   "nbconvert_exporter": "python",
   "pygments_lexer": "ipython3",
   "version": "3.5.2"
  }
 },
 "nbformat": 4,
 "nbformat_minor": 1
}
